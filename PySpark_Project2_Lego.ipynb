{
 "cells": [
  {
   "cell_type": "markdown",
   "id": "4be75338",
   "metadata": {},
   "source": [
    "# Starting Spark Session"
   ]
  },
  {
   "cell_type": "code",
   "execution_count": 1,
   "id": "d4b67a8e",
   "metadata": {},
   "outputs": [],
   "source": [
    "from pyspark.sql import SparkSession,functions, Window\n",
    "from pyspark.sql.functions import *\n",
    "from pyspark.sql.types import IntegerType,BooleanType,DateType, LongType,  DoubleType\n",
    "import glob\n"
   ]
  },
  {
   "cell_type": "markdown",
   "id": "c6b25998",
   "metadata": {},
   "source": [
    "# Creating a Spark Session called Lego"
   ]
  },
  {
   "cell_type": "code",
   "execution_count": 2,
   "id": "6e82bcb2",
   "metadata": {},
   "outputs": [],
   "source": [
    "spark = SparkSession.builder.appName('Lego').getOrCreate()"
   ]
  },
  {
   "cell_type": "code",
   "execution_count": 3,
   "id": "4eca2b64",
   "metadata": {},
   "outputs": [
    {
     "data": {
      "text/html": [
       "\n",
       "            <div>\n",
       "                <p><b>SparkSession - in-memory</b></p>\n",
       "                \n",
       "        <div>\n",
       "            <p><b>SparkContext</b></p>\n",
       "\n",
       "            <p><a href=\"http://192.168.0.13:4040\">Spark UI</a></p>\n",
       "\n",
       "            <dl>\n",
       "              <dt>Version</dt>\n",
       "                <dd><code>v3.4.0</code></dd>\n",
       "              <dt>Master</dt>\n",
       "                <dd><code>local[*]</code></dd>\n",
       "              <dt>AppName</dt>\n",
       "                <dd><code>Lego</code></dd>\n",
       "            </dl>\n",
       "        </div>\n",
       "        \n",
       "            </div>\n",
       "        "
      ],
      "text/plain": [
       "<pyspark.sql.session.SparkSession at 0x23f59b92860>"
      ]
     },
     "execution_count": 3,
     "metadata": {},
     "output_type": "execute_result"
    }
   ],
   "source": [
    "spark"
   ]
  },
  {
   "cell_type": "markdown",
   "id": "8bcdc422",
   "metadata": {},
   "source": [
    "# Browsing csv files from a folder"
   ]
  },
  {
   "cell_type": "code",
   "execution_count": 4,
   "id": "19348fd3",
   "metadata": {},
   "outputs": [
    {
     "name": "stdout",
     "output_type": "stream",
     "text": [
      "File names: D:\\My commercial projects\\PySpark\\Project 2 PySpark\\Lego\\colors.csv\n",
      "File names: D:\\My commercial projects\\PySpark\\Project 2 PySpark\\Lego\\inventories.csv\n",
      "File names: D:\\My commercial projects\\PySpark\\Project 2 PySpark\\Lego\\inventory_parts.csv\n",
      "File names: D:\\My commercial projects\\PySpark\\Project 2 PySpark\\Lego\\inventory_sets.csv\n",
      "File names: D:\\My commercial projects\\PySpark\\Project 2 PySpark\\Lego\\parts.csv\n",
      "File names: D:\\My commercial projects\\PySpark\\Project 2 PySpark\\Lego\\part_categories.csv\n",
      "File names: D:\\My commercial projects\\PySpark\\Project 2 PySpark\\Lego\\sets.csv\n",
      "File names: D:\\My commercial projects\\PySpark\\Project 2 PySpark\\Lego\\themes.csv\n"
     ]
    }
   ],
   "source": [
    "path = 'D:\\My commercial projects\\PySpark\\Project 2 PySpark\\Lego'\n",
    "\n",
    "filenames = glob.glob(path + \"\\*.csv\")\n",
    "\n",
    "for file in filenames:\n",
    "    print('File names:', file)"
   ]
  },
  {
   "cell_type": "markdown",
   "id": "cc1fa2a5",
   "metadata": {},
   "source": [
    "# Reading csv files into Spark DataFrame"
   ]
  },
  {
   "cell_type": "code",
   "execution_count": 5,
   "id": "48609e2a",
   "metadata": {},
   "outputs": [],
   "source": [
    "PathLegoColor = r'D:\\My commercial projects\\PySpark\\Project 2 PySpark\\Lego\\colors.csv'\n",
    "PathInventories =r'D:\\My commercial projects\\PySpark\\Project 2 PySpark\\Lego\\inventories.csv'\n",
    "PathInventoriesParts =r'D:\\My commercial projects\\PySpark\\Project 2 PySpark\\Lego\\inventory_parts.csv'\n",
    "PathInventoriesSets =r'D:\\My commercial projects\\PySpark\\Project 2 PySpark\\Lego\\inventory_sets.csv'\n",
    "PathParts = r'D:\\My commercial projects\\PySpark\\Project 2 PySpark\\Lego\\parts.csv'\n",
    "PathPartCategories =r'D:\\My commercial projects\\PySpark\\Project 2 PySpark\\Lego\\part_categories.csv'\n",
    "PathSets = r'D:\\My commercial projects\\PySpark\\Project 2 PySpark\\Lego\\sets.csv'\n",
    "PathThemes =r'D:\\My commercial projects\\PySpark\\Project 2 PySpark\\Lego\\themes.csv'"
   ]
  },
  {
   "cell_type": "code",
   "execution_count": 6,
   "id": "40ddf89e",
   "metadata": {},
   "outputs": [],
   "source": [
    "dfLegoColor = spark.read.csv(PathLegoColor,header=True,inferSchema=True)\n",
    "dfLegoInventories = spark.read.csv(PathInventories,header=True,inferSchema=True)\n",
    "dfLegoInventoriesParts = spark.read.csv(PathInventoriesParts,header=True,inferSchema=True)\n",
    "dfLegoInventoriesSets = spark.read.csv(PathInventoriesSets,header=True,inferSchema=True)\n",
    "dfLegoParts =  spark.read.csv(PathParts,header=True,inferSchema=True)\n",
    "dfLegoPartCategories = spark.read.csv(PathPartCategories,header=True,inferSchema=True)\n",
    "dfLegoSets = spark.read.csv(PathSets,header=True,inferSchema=True)\n",
    "dfLegoThemes = spark.read.csv(PathThemes,header=True,inferSchema=True)"
   ]
  },
  {
   "cell_type": "markdown",
   "id": "3da2e2f0",
   "metadata": {},
   "source": [
    "# Browsing Spark DataFrames"
   ]
  },
  {
   "cell_type": "code",
   "execution_count": 7,
   "id": "da3fbc99",
   "metadata": {},
   "outputs": [
    {
     "name": "stdout",
     "output_type": "stream",
     "text": [
      "+---+---------------+------+--------+\n",
      "| id|           name|   rgb|is_trans|\n",
      "+---+---------------+------+--------+\n",
      "| -1|        Unknown|0033B2|       f|\n",
      "|  0|          Black|05131D|       f|\n",
      "|  1|           Blue|0055BF|       f|\n",
      "|  2|          Green|237841|       f|\n",
      "|  3| Dark Turquoise|008F9B|       f|\n",
      "|  4|            Red|C91A09|       f|\n",
      "|  5|      Dark Pink|C870A0|       f|\n",
      "|  6|          Brown|583927|       f|\n",
      "|  7|     Light Gray|9BA19D|       f|\n",
      "|  8|      Dark Gray|6D6E5C|       f|\n",
      "|  9|     Light Blue|B4D2E3|       f|\n",
      "| 10|   Bright Green|4B9F4A|       f|\n",
      "| 11|Light Turquoise|55A5AF|       f|\n",
      "| 12|         Salmon|F2705E|       f|\n",
      "| 13|           Pink|FC97AC|       f|\n",
      "| 14|         Yellow|F2CD37|       f|\n",
      "| 15|          White|FFFFFF|       f|\n",
      "| 17|    Light Green|C2DAB8|       f|\n",
      "| 18|   Light Yellow|FBE696|       f|\n",
      "| 19|            Tan|E4CD9E|       f|\n",
      "+---+---------------+------+--------+\n",
      "only showing top 20 rows\n",
      "\n"
     ]
    }
   ],
   "source": [
    "dfLegoColor.show()"
   ]
  },
  {
   "cell_type": "code",
   "execution_count": 8,
   "id": "9cb00fb5",
   "metadata": {},
   "outputs": [
    {
     "name": "stdout",
     "output_type": "stream",
     "text": [
      "+---+-------+---------+\n",
      "| id|version|  set_num|\n",
      "+---+-------+---------+\n",
      "|  1|      1|   7922-1|\n",
      "|  3|      1|   3931-1|\n",
      "|  4|      1|   6942-1|\n",
      "| 15|      1|   5158-1|\n",
      "| 16|      1|    903-1|\n",
      "| 17|      1| 850950-1|\n",
      "| 19|      1|   4444-1|\n",
      "| 21|      1|   3474-1|\n",
      "| 22|      1|  30277-1|\n",
      "| 25|      1| 71012-11|\n",
      "| 26|      1|   6435-1|\n",
      "| 27|      1|   3055-1|\n",
      "| 28|      1|   7899-1|\n",
      "| 29|      1|   1076-3|\n",
      "| 30|      1|  40107-1|\n",
      "| 31|      1|     14-4|\n",
      "| 32|      1|  4024-21|\n",
      "| 33|      1|   6356-1|\n",
      "| 34|      1| 71017-20|\n",
      "| 35|      1|5004559-1|\n",
      "+---+-------+---------+\n",
      "only showing top 20 rows\n",
      "\n"
     ]
    }
   ],
   "source": [
    "dfLegoInventories.show()"
   ]
  },
  {
   "cell_type": "code",
   "execution_count": 9,
   "id": "da49575e",
   "metadata": {},
   "outputs": [
    {
     "name": "stdout",
     "output_type": "stream",
     "text": [
      "+------------+-----------+--------+--------+--------+\n",
      "|inventory_id|   part_num|color_id|quantity|is_spare|\n",
      "+------------+-----------+--------+--------+--------+\n",
      "|           1|   48379c01|      72|       1|       f|\n",
      "|           1|      48395|       7|       1|       f|\n",
      "|           1|   mcsport6|      25|       1|       f|\n",
      "|           1|     paddle|       0|       1|       f|\n",
      "|           3|11816pr0005|      78|       1|       f|\n",
      "|           3|       2343|      47|       1|       f|\n",
      "|           3|       3003|      29|       1|       f|\n",
      "|           3|      30176|       2|       1|       f|\n",
      "|           3|       3020|      15|       1|       f|\n",
      "|           3|       3022|      15|       2|       f|\n",
      "|           3|       3023|      15|       1|       f|\n",
      "|           3|      30357|      29|       4|       f|\n",
      "|           3|       3039|      15|       1|       f|\n",
      "|           3|      3062b|      15|       1|       f|\n",
      "|           3|      3068b|      29|       1|       f|\n",
      "|           3|      3069b|      29|       2|       f|\n",
      "|           3|      3069b|      27|       5|       f|\n",
      "|           3|      33291|     191|       3|       f|\n",
      "|           3|      33291|     191|       1|       t|\n",
      "|           3|       3795|      15|       1|       f|\n",
      "+------------+-----------+--------+--------+--------+\n",
      "only showing top 20 rows\n",
      "\n"
     ]
    }
   ],
   "source": [
    "dfLegoInventoriesParts.show()"
   ]
  },
  {
   "cell_type": "code",
   "execution_count": 10,
   "id": "82404ebb",
   "metadata": {},
   "outputs": [
    {
     "name": "stdout",
     "output_type": "stream",
     "text": [
      "+------------+-------+--------+\n",
      "|inventory_id|set_num|quantity|\n",
      "+------------+-------+--------+\n",
      "|          35|75911-1|       1|\n",
      "|          35|75912-1|       1|\n",
      "|          39|75048-1|       1|\n",
      "|          39|75053-1|       1|\n",
      "|          50| 4515-1|       1|\n",
      "|          50| 4520-1|       2|\n",
      "|          50| 4531-1|       1|\n",
      "|          71| 7690-1|       1|\n",
      "|          71| 7691-1|       1|\n",
      "|          71| 7692-1|       1|\n",
      "|          71| 7693-1|       1|\n",
      "|          71| 7694-1|       1|\n",
      "|          71| 7695-1|       1|\n",
      "|          71| 7697-1|       1|\n",
      "|          81| 8451-1|       1|\n",
      "|          81| 8453-1|       1|\n",
      "|          87|10233-1|       1|\n",
      "|          87|88002-1|       1|\n",
      "|          87| 8870-1|       1|\n",
      "|          87| 8878-1|       1|\n",
      "+------------+-------+--------+\n",
      "only showing top 20 rows\n",
      "\n"
     ]
    }
   ],
   "source": [
    "dfLegoInventoriesSets.show()"
   ]
  },
  {
   "cell_type": "code",
   "execution_count": 11,
   "id": "5ecae63e",
   "metadata": {},
   "outputs": [
    {
     "name": "stdout",
     "output_type": "stream",
     "text": [
      "+-----------+------------------------------------------------------------------------------+-----------+\n",
      "|part_num   |name                                                                          |part_cat_id|\n",
      "+-----------+------------------------------------------------------------------------------+-----------+\n",
      "|0687b1     |Set 0687 Activity Booklet 1                                                   |17         |\n",
      "|0901       |Baseplate 16 x 30 with Set 080 Yellow House Print                             |1          |\n",
      "|0902       |Baseplate 16 x 24 with Set 080 Small White House Print                        |1          |\n",
      "|0903       |Baseplate 16 x 24 with Set 080 Red House Print                                |1          |\n",
      "|0904       |Baseplate 16 x 24 with Set 080 Large White House Print                        |1          |\n",
      "|1          |Homemaker Bookcase 2 x 4 x 4                                                  |7          |\n",
      "|10         |Baseplate 24 x 32                                                             |1          |\n",
      "|10016414   |Sticker Sheet #1 for 41055-1                                                  |17         |\n",
      "|10019stk01 |Sticker for Set 10019 - (43274/4170393)                                       |17         |\n",
      "|10026stk01 |Sticker for Set 10026 - (44942/4184185)                                       |17         |\n",
      "|10029stk01 |Sticker for Set 10029 - (4216816)                                             |17         |\n",
      "|10036stk01 |Sticker for Set 10036 - (821407)                                              |17         |\n",
      "|10039      |Pullback Motor 8 x 4 x 2/3                                                    |44         |\n",
      "|10048      |Minifig Hair Tousled                                                          |13         |\n",
      "|10049      |Minifig Shield Broad with Spiked Bottom and Cutout Corner                     |27         |\n",
      "|10049pr0001|Minifig Shield Broad with Spiked Bottom and Cutout Corner with Handprint Print|27         |\n",
      "|10050      |Minifig Sword [Uruk-hai]                                                      |27         |\n",
      "|10051      |Minifig Helmet Castle with Lateral Comb [Uruk-hai]                            |27         |\n",
      "|10051pr01  |Minifig Helmet Castle with Lateral Comb and Handprint Print                   |27         |\n",
      "|10052      |Minifig Beard, Rounded End [Gandalf]                                          |27         |\n",
      "+-----------+------------------------------------------------------------------------------+-----------+\n",
      "only showing top 20 rows\n",
      "\n"
     ]
    }
   ],
   "source": [
    "dfLegoParts.show(truncate=False)"
   ]
  },
  {
   "cell_type": "code",
   "execution_count": 12,
   "id": "bd28e4eb",
   "metadata": {},
   "outputs": [
    {
     "name": "stdout",
     "output_type": "stream",
     "text": [
      "+---+---------------------------+\n",
      "|id |name                       |\n",
      "+---+---------------------------+\n",
      "|1  |Baseplates                 |\n",
      "|2  |Bricks Printed             |\n",
      "|3  |Bricks Sloped              |\n",
      "|4  |Duplo, Quatro and Primo    |\n",
      "|5  |Bricks Special             |\n",
      "|6  |Bricks Wedged              |\n",
      "|7  |Containers                 |\n",
      "|8  |Technic Bricks             |\n",
      "|9  |Plates Special             |\n",
      "|10 |Tiles Printed              |\n",
      "|11 |Bricks                     |\n",
      "|12 |Technic Connectors         |\n",
      "|13 |Minifigs                   |\n",
      "|14 |Plates                     |\n",
      "|15 |Tiles Special              |\n",
      "|16 |Windows and Doors          |\n",
      "|17 |Non-LEGO                   |\n",
      "|18 |Hinges, Arms and Turntables|\n",
      "|19 |Tiles                      |\n",
      "|20 |Bricks Round and Cones     |\n",
      "+---+---------------------------+\n",
      "only showing top 20 rows\n",
      "\n"
     ]
    }
   ],
   "source": [
    "dfLegoPartCategories.show(truncate=False)"
   ]
  },
  {
   "cell_type": "code",
   "execution_count": 13,
   "id": "833990f9",
   "metadata": {},
   "outputs": [
    {
     "name": "stdout",
     "output_type": "stream",
     "text": [
      "+-------+---------------------------------+----+--------+---------+\n",
      "|set_num|name                             |year|theme_id|num_parts|\n",
      "+-------+---------------------------------+----+--------+---------+\n",
      "|00-1   |Weetabix Castle                  |1970|414     |471      |\n",
      "|0011-2 |Town Mini-Figures                |1978|84      |12       |\n",
      "|0011-3 |Castle 2 for 1 Bonus Offer       |1987|199     |2        |\n",
      "|0012-1 |Space Mini-Figures               |1979|143     |12       |\n",
      "|0013-1 |Space Mini-Figures               |1979|143     |12       |\n",
      "|0014-1 |Space Mini-Figures               |1979|143     |12       |\n",
      "|0015-1 |Space Mini-Figures               |1979|143     |18       |\n",
      "|0016-1 |Castle Mini Figures              |1978|186     |15       |\n",
      "|00-2   |Weetabix Promotional House 1     |1976|413     |147      |\n",
      "|00-3   |Weetabix Promotional House 2     |1976|413     |149      |\n",
      "|00-4   |Weetabix Promotional Windmill    |1976|413     |126      |\n",
      "|005-1  |Basic Building Set in Cardboard  |1965|366     |35       |\n",
      "|00-6   |Special Offer                    |1985|67      |3        |\n",
      "|00-7   |Weetabix Promotional Lego Village|1976|413     |3        |\n",
      "|010-1  |Basic Building Set in Cardboard  |1965|366     |57       |\n",
      "|010-3  |Basic Building Set               |1968|366     |77       |\n",
      "|011-1  |Basic Building Set               |1968|366     |145      |\n",
      "|022-1  |Basic Building Set               |1968|366     |110      |\n",
      "|03093-1|The Race to Build It Board Game  |1999|502     |70       |\n",
      "|033-2  |Basic Building Set               |1968|366     |177      |\n",
      "+-------+---------------------------------+----+--------+---------+\n",
      "only showing top 20 rows\n",
      "\n"
     ]
    }
   ],
   "source": [
    "dfLegoSets.show(truncate=False)"
   ]
  },
  {
   "cell_type": "code",
   "execution_count": 14,
   "id": "d3813dcf",
   "metadata": {},
   "outputs": [
    {
     "name": "stdout",
     "output_type": "stream",
     "text": [
      "+---+---------------+---------+\n",
      "| id|           name|parent_id|\n",
      "+---+---------------+---------+\n",
      "|  1|        Technic|     null|\n",
      "|  2| Arctic Technic|        1|\n",
      "|  3|    Competition|        1|\n",
      "|  4| Expert Builder|        1|\n",
      "|  5|          Model|        1|\n",
      "|  6|        Airport|        5|\n",
      "|  7|   Construction|        5|\n",
      "|  8|           Farm|        5|\n",
      "|  9|           Fire|        5|\n",
      "| 10|         Harbor|        5|\n",
      "| 11|       Off-Road|        5|\n",
      "| 12|           Race|        5|\n",
      "| 13|   Riding Cycle|        5|\n",
      "| 14|          Robot|        5|\n",
      "| 15|        Traffic|        5|\n",
      "| 16|     RoboRiders|        1|\n",
      "| 17| Speed Slammers|        1|\n",
      "| 18|      Star Wars|        1|\n",
      "| 19|   Supplemental|        1|\n",
      "| 20|Throwbot Slizer|        1|\n",
      "+---+---------------+---------+\n",
      "only showing top 20 rows\n",
      "\n"
     ]
    }
   ],
   "source": [
    "dfLegoThemes.show()"
   ]
  },
  {
   "cell_type": "markdown",
   "id": "4e5d5d17",
   "metadata": {},
   "source": [
    "# Combining DataFrames "
   ]
  },
  {
   "cell_type": "code",
   "execution_count": 15,
   "id": "ccfce7ff",
   "metadata": {},
   "outputs": [
    {
     "name": "stdout",
     "output_type": "stream",
     "text": [
      "+-------+---------------------------------+----+------------+\n",
      "|set_num|NameSets                         |Year|NameThemes  |\n",
      "+-------+---------------------------------+----+------------+\n",
      "|00-1   |Weetabix Castle                  |1970|Castle      |\n",
      "|0011-2 |Town Mini-Figures                |1978|Supplemental|\n",
      "|0011-3 |Castle 2 for 1 Bonus Offer       |1987|Lion Knights|\n",
      "|0012-1 |Space Mini-Figures               |1979|Supplemental|\n",
      "|0013-1 |Space Mini-Figures               |1979|Supplemental|\n",
      "|0014-1 |Space Mini-Figures               |1979|Supplemental|\n",
      "|0015-1 |Space Mini-Figures               |1979|Supplemental|\n",
      "|0016-1 |Castle Mini Figures              |1978|Castle      |\n",
      "|00-2   |Weetabix Promotional House 1     |1976|Building    |\n",
      "|00-3   |Weetabix Promotional House 2     |1976|Building    |\n",
      "|00-4   |Weetabix Promotional Windmill    |1976|Building    |\n",
      "|005-1  |Basic Building Set in Cardboard  |1965|Basic Set   |\n",
      "|00-6   |Special Offer                    |1985|Classic Town|\n",
      "|00-7   |Weetabix Promotional Lego Village|1976|Building    |\n",
      "|010-1  |Basic Building Set in Cardboard  |1965|Basic Set   |\n",
      "|010-3  |Basic Building Set               |1968|Basic Set   |\n",
      "|011-1  |Basic Building Set               |1968|Basic Set   |\n",
      "|022-1  |Basic Building Set               |1968|Basic Set   |\n",
      "|03093-1|The Race to Build It Board Game  |1999|Game        |\n",
      "|033-2  |Basic Building Set               |1968|Basic Set   |\n",
      "+-------+---------------------------------+----+------------+\n",
      "only showing top 20 rows\n",
      "\n"
     ]
    }
   ],
   "source": [
    "dfLegoSetsThemes = dfLegoSets.join(dfLegoThemes,dfLegoSets[\"theme_id\"] == dfLegoThemes[\"id\"], 'inner') \\\n",
    "                .select(dfLegoSets[\"set_num\"],\n",
    "                       dfLegoSets[\"name\"].alias(\"NameSets\"),\n",
    "                       dfLegoSets[\"year\"].alias(\"Year\"),\n",
    "                       dfLegoThemes[\"name\"].alias('NameThemes'))\n",
    "dfLegoSetsThemes.show(truncate=False)"
   ]
  },
  {
   "cell_type": "code",
   "execution_count": 16,
   "id": "b79d2ddc",
   "metadata": {},
   "outputs": [
    {
     "name": "stdout",
     "output_type": "stream",
     "text": [
      "+-------+---------+--------+-----------+-------+----------+-------+\n",
      "|set_num|InvSetQTy|part_num|InvPartsQty|IsSpare|ColorName |IsTrans|\n",
      "+-------+---------+--------+-----------+-------+----------+-------+\n",
      "|8884-1 |1        |8887-1  |1          |f      |[No Color]|f      |\n",
      "|8879-1 |1        |8887-1  |1          |f      |[No Color]|f      |\n",
      "|8878-1 |1        |8887-1  |1          |f      |[No Color]|f      |\n",
      "|8870-1 |1        |8887-1  |1          |f      |[No Color]|f      |\n",
      "|88002-1|1        |8887-1  |1          |f      |[No Color]|f      |\n",
      "|10233-1|1        |8887-1  |1          |f      |[No Color]|f      |\n",
      "|8596-1 |1        |48419   |1          |f      |Black     |f      |\n",
      "|8593-1 |1        |48419   |1          |f      |Black     |f      |\n",
      "|7958-9 |1        |4625992 |1          |f      |Royal Blue|f      |\n",
      "|7958-8 |1        |4625992 |1          |f      |Royal Blue|f      |\n",
      "|7958-7 |1        |4625992 |1          |f      |Royal Blue|f      |\n",
      "|7958-6 |1        |4625992 |1          |f      |Royal Blue|f      |\n",
      "|7958-5 |1        |4625992 |1          |f      |Royal Blue|f      |\n",
      "|7958-4 |1        |4625992 |1          |f      |Royal Blue|f      |\n",
      "|7958-3 |1        |4625992 |1          |f      |Royal Blue|f      |\n",
      "|7958-25|1        |4625992 |1          |f      |Royal Blue|f      |\n",
      "|7958-24|1        |4625992 |1          |f      |Royal Blue|f      |\n",
      "|7958-23|1        |4625992 |1          |f      |Royal Blue|f      |\n",
      "|7958-22|1        |4625992 |1          |f      |Royal Blue|f      |\n",
      "|7958-21|1        |4625992 |1          |f      |Royal Blue|f      |\n",
      "+-------+---------+--------+-----------+-------+----------+-------+\n",
      "only showing top 20 rows\n",
      "\n"
     ]
    }
   ],
   "source": [
    "dfLegoInvSetsInvPartsColor = dfLegoInventoriesSets.join(dfLegoInventories\n",
    "                                                        ,dfLegoInventoriesSets[\"inventory_id\"] == dfLegoInventories[\"id\"],\n",
    "                                                        'inner') \\\n",
    "                .join(dfLegoInventoriesParts, \n",
    "                      dfLegoInventories[\"id\"] == dfLegoInventoriesParts[\"inventory_id\"]\n",
    "                      ,'inner') \\\n",
    "                .join(dfLegoColor,dfLegoInventoriesParts['color_id'] == dfLegoColor['id']\n",
    "                      , 'inner') \\\n",
    "                .select(dfLegoInventoriesSets.set_num,\n",
    "                        dfLegoInventoriesSets.quantity.alias(\"InvSetQTy\"), \n",
    "                        dfLegoInventoriesParts.part_num,\n",
    "                        dfLegoInventoriesParts.quantity.alias(\"InvPartsQty\"),\n",
    "                        dfLegoInventoriesParts.is_spare.alias(\"IsSpare\"),\n",
    "                        dfLegoColor.name.alias(\"ColorName\"), \n",
    "                        dfLegoColor.is_trans.alias(\"IsTrans\"))\n",
    "\n",
    "dfLegoInvSetsInvPartsColor.show(truncate=False)"
   ]
  },
  {
   "cell_type": "code",
   "execution_count": 17,
   "id": "ed5fadac",
   "metadata": {},
   "outputs": [
    {
     "name": "stdout",
     "output_type": "stream",
     "text": [
      "+-----------+------------------------------------------------------------------------------+-------------------+\n",
      "|part_num   |PartsName                                                                     |PartCatName        |\n",
      "+-----------+------------------------------------------------------------------------------+-------------------+\n",
      "|0687b1     |Set 0687 Activity Booklet 1                                                   |Non-LEGO           |\n",
      "|0901       |Baseplate 16 x 30 with Set 080 Yellow House Print                             |Baseplates         |\n",
      "|0902       |Baseplate 16 x 24 with Set 080 Small White House Print                        |Baseplates         |\n",
      "|0903       |Baseplate 16 x 24 with Set 080 Red House Print                                |Baseplates         |\n",
      "|0904       |Baseplate 16 x 24 with Set 080 Large White House Print                        |Baseplates         |\n",
      "|1          |Homemaker Bookcase 2 x 4 x 4                                                  |Containers         |\n",
      "|10         |Baseplate 24 x 32                                                             |Baseplates         |\n",
      "|10016414   |Sticker Sheet #1 for 41055-1                                                  |Non-LEGO           |\n",
      "|10019stk01 |Sticker for Set 10019 - (43274/4170393)                                       |Non-LEGO           |\n",
      "|10026stk01 |Sticker for Set 10026 - (44942/4184185)                                       |Non-LEGO           |\n",
      "|10029stk01 |Sticker for Set 10029 - (4216816)                                             |Non-LEGO           |\n",
      "|10036stk01 |Sticker for Set 10036 - (821407)                                              |Non-LEGO           |\n",
      "|10039      |Pullback Motor 8 x 4 x 2/3                                                    |Mechanical         |\n",
      "|10048      |Minifig Hair Tousled                                                          |Minifigs           |\n",
      "|10049      |Minifig Shield Broad with Spiked Bottom and Cutout Corner                     |Minifig Accessories|\n",
      "|10049pr0001|Minifig Shield Broad with Spiked Bottom and Cutout Corner with Handprint Print|Minifig Accessories|\n",
      "|10050      |Minifig Sword [Uruk-hai]                                                      |Minifig Accessories|\n",
      "|10051      |Minifig Helmet Castle with Lateral Comb [Uruk-hai]                            |Minifig Accessories|\n",
      "|10051pr01  |Minifig Helmet Castle with Lateral Comb and Handprint Print                   |Minifig Accessories|\n",
      "|10052      |Minifig Beard, Rounded End [Gandalf]                                          |Minifig Accessories|\n",
      "+-----------+------------------------------------------------------------------------------+-------------------+\n",
      "only showing top 20 rows\n",
      "\n"
     ]
    }
   ],
   "source": [
    "dfLegoPartsPartCategories = dfLegoParts.join(dfLegoPartCategories, dfLegoParts[\"part_cat_id\"] == dfLegoPartCategories[\"id\"],\n",
    "                                             'inner') \\\n",
    "                       .select(\n",
    "                       dfLegoParts[\"part_num\"],\n",
    "                       dfLegoParts[\"name\"].alias(\"PartsName\"),\n",
    "                       dfLegoPartCategories[\"name\"].alias(\"PartCatName\"))\n",
    "\n",
    "\n",
    "dfLegoPartsPartCategories.show(truncate=False) "
   ]
  },
  {
   "cell_type": "markdown",
   "id": "133bbb5b",
   "metadata": {},
   "source": [
    "# Combining all PySpark DataFrames into one"
   ]
  },
  {
   "cell_type": "markdown",
   "id": "7982887b",
   "metadata": {},
   "source": [
    "## Final Lego DataFrame"
   ]
  },
  {
   "cell_type": "code",
   "execution_count": 18,
   "id": "5cb2c4d2",
   "metadata": {},
   "outputs": [
    {
     "name": "stdout",
     "output_type": "stream",
     "text": [
      "+--------------------+------------+----+---------+--------------------+-----------+-----------+-------+----------+-------+\n",
      "|            NameSets|  NameThemes|Year|InvSetQty|           PartsName|PartCatName|InvPartsQty|IsSpare| ColorName|IsTrans|\n",
      "+--------------------+------------+----+---------+--------------------+-----------+-----------+-------+----------+-------+\n",
      "|Basic Bricks -- M...|Supplemental|2008|        1|5573 LEGO Build &...|      Other|          1|      f|Royal Blue|      f|\n",
      "|Advent Calendar 2...|   Star Wars|2011|        1|Star Wars 2011 Ad...|   Non-LEGO|          1|      f|Royal Blue|      f|\n",
      "+--------------------+------------+----+---------+--------------------+-----------+-----------+-------+----------+-------+\n",
      "only showing top 2 rows\n",
      "\n"
     ]
    }
   ],
   "source": [
    "dfFinalLego =dfLegoSetsThemes.join(dfLegoInvSetsInvPartsColor,\n",
    "                                   dfLegoSetsThemes[\"set_num\"] == dfLegoInvSetsInvPartsColor[\"set_num\"]\n",
    "                      ,'inner') \\\n",
    "                .join(dfLegoPartsPartCategories,dfLegoInvSetsInvPartsColor[\"part_num\"] ==dfLegoPartsPartCategories[\"part_num\"],\n",
    "                     'inner') \\\n",
    "                .select(dfLegoSetsThemes[\"NameSets\"],\n",
    "                     dfLegoSetsThemes[\"NameThemes\"],\n",
    "                       dfLegoSetsThemes[\"Year\"],\n",
    "                       dfLegoInvSetsInvPartsColor[\"InvSetQty\"],\n",
    "                       dfLegoPartsPartCategories[\"PartsName\"],\n",
    "                       dfLegoPartsPartCategories[\"PartCatName\"],\n",
    "                       dfLegoInvSetsInvPartsColor[\"InvPartsQty\"],\n",
    "                       dfLegoInvSetsInvPartsColor[\"IsSpare\"],\n",
    "                       dfLegoInvSetsInvPartsColor[\"ColorName\"],\n",
    "                       dfLegoInvSetsInvPartsColor[\"IsTrans\"]\n",
    "                       ) \n",
    "dfFinalLego.show(2)"
   ]
  },
  {
   "cell_type": "markdown",
   "id": "858c587d",
   "metadata": {},
   "source": [
    "## Final Inventory Sets DataFrame"
   ]
  },
  {
   "cell_type": "code",
   "execution_count": 19,
   "id": "e54d7a01",
   "metadata": {},
   "outputs": [
    {
     "name": "stdout",
     "output_type": "stream",
     "text": [
      "+-------------------------------------------------------+--------------------+----+---------+\n",
      "|NameSets                                               |NameThemes          |Year|InvSetQty|\n",
      "+-------------------------------------------------------+--------------------+----+---------+\n",
      "|Go-Cart                                                |Race                |1999|1        |\n",
      "|Lunar MPV Vehicle                                      |Futuron             |1990|1        |\n",
      "|Light Flyer                                            |Insectoids          |1999|1        |\n",
      "|Advent Calendar 2002 Creator (Day 18) Space Shuttle    |Creator             |2002|1        |\n",
      "|Basic Bricks -- Medium                                 |Supplemental        |2008|1        |\n",
      "|Basic Bricks -- Medium                                 |Supplemental        |2008|1        |\n",
      "|Flora's Bubbling Bath                                  |Fairy-Tale          |2002|1        |\n",
      "|Advent Calendar 2008 City (Day 12) Oven                |City                |2008|1        |\n",
      "|Race Car Driver - Complete Set                         |Series 3 Minifigures|2011|1        |\n",
      "|Swimming Champion - Complete Set                       |Series 7 Minifigures|2012|1        |\n",
      "|Rocker Girl - Complete Set                             |Series 7 Minifigures|2012|1        |\n",
      "|Catapult                                               |Knights Kingdom I   |2000|1        |\n",
      "|Advent Calendar 2014, Friends (Day 3) - Gift and Basket|Friends             |2014|1        |\n",
      "|Advent Calendar 2001, Creator (Day  4) Santa           |Advent Sub-Set      |2001|1        |\n",
      "|Snax                                                   |Series 6            |2015|1        |\n",
      "|Fire Station                                           |Fire                |2013|1        |\n",
      "|Flexible Rails                                         |RC Train            |2011|1        |\n",
      "|Flexible Rails                                         |RC Train            |2011|1        |\n",
      "|Advent Calendar 2004 Clikits (Day 11) Icons            |Clikits             |2004|1        |\n",
      "|MX-11 Astro Fighter                                    |Mars Mission        |2007|1        |\n",
      "+-------------------------------------------------------+--------------------+----+---------+\n",
      "only showing top 20 rows\n",
      "\n"
     ]
    }
   ],
   "source": [
    "dfFinalLegoInvSetTheme = dfLegoInventoriesSets.join(dfLegoInventories\n",
    "                                                        ,dfLegoInventoriesSets[\"inventory_id\"] == dfLegoInventories[\"id\"],\n",
    "                                                        'inner') \\\n",
    "                    .join(dfLegoSetsThemes,dfLegoInventoriesSets[\"set_num\"] ==dfLegoSetsThemes[\"set_num\"],\n",
    "                          'inner') \\\n",
    "                    .select(dfLegoSetsThemes[\"NameSets\"],\n",
    "                           dfLegoSetsThemes[\"NameThemes\"],\n",
    "                           dfLegoSetsThemes[\"Year\"],\n",
    "                           dfLegoInventoriesSets['quantity'].alias(\"InvSetQty\"))\n",
    "\n",
    "dfFinalLegoInvSetTheme.show(truncate=False)"
   ]
  },
  {
   "cell_type": "markdown",
   "id": "2070202e",
   "metadata": {},
   "source": [
    "## Final Inventory Parts DataFrame"
   ]
  },
  {
   "cell_type": "code",
   "execution_count": 20,
   "id": "8e76934f",
   "metadata": {},
   "outputs": [
    {
     "name": "stdout",
     "output_type": "stream",
     "text": [
      "+--------------------+--------------------+-----------------+-------+----------+-------+\n",
      "|           PartsName|         PartCatName|        ColorName|IsTrans|InvPartQty|IsSpare|\n",
      "+--------------------+--------------------+-----------------+-------+----------+-------+\n",
      "|Minifig Space Gun...| Minifig Accessories|       Light Gray|      f|         1|      f|\n",
      "|Plate Special 1 x...|      Plates Special| Dark Bluish Gray|      f|         6|      f|\n",
      "|Plate Special 1 x...|      Plates Special|Light Bluish Gray|      f|         2|      f|\n",
      "|Plate Special 1 x...|      Plates Special|Light Bluish Gray|      f|         6|      f|\n",
      "|Minifig Space Gun...| Minifig Accessories|              Red|      f|         2|      f|\n",
      "|Minifig Space Gun...| Minifig Accessories| Dark Bluish Gray|      f|         2|      f|\n",
      "|Bionicle Weapon T...|Bionicle, Hero Fa...|            Black|      f|         6|      f|\n",
      "|Plate Special 1 x...|      Plates Special|           Yellow|      f|         1|      f|\n",
      "|Plate Special 1 x...|      Plates Special| Dark Bluish Gray|      f|         2|      f|\n",
      "|Plate Special 1 x...|      Plates Special|            White|      f|         2|      f|\n",
      "|FOUR-SIDED SIGN W...|Flags, Signs, Pla...|            White|      f|         1|      f|\n",
      "|Body Rock Monster...|            Minifigs| Trans-Neon Green|      t|         1|      f|\n",
      "|Minifig Space Gun...| Minifig Accessories|            White|      f|         1|      f|\n",
      "|Minifig Space Gun...| Minifig Accessories|Light Bluish Gray|      f|         5|      f|\n",
      "|Plate Special 1 x...|      Plates Special|            Black|      f|         4|      f|\n",
      "|Train Wheel Small...|    Wheels and Tyres|            Black|      f|         2|      f|\n",
      "|Plate Special 1 x...|      Plates Special| Dark Bluish Gray|      f|         5|      f|\n",
      "|Plate Special 1 x...|      Plates Special|            White|      f|         8|      f|\n",
      "|Plate Special 1 x...|      Plates Special|            Black|      f|         3|      f|\n",
      "|Plate Special 1 x...|      Plates Special|      Medium Blue|      f|         4|      f|\n",
      "+--------------------+--------------------+-----------------+-------+----------+-------+\n",
      "only showing top 20 rows\n",
      "\n"
     ]
    }
   ],
   "source": [
    "dfFinalLegoInventoryParts =dfLegoInventoriesParts.join(dfLegoColor,dfLegoInventoriesParts['color_id'] == dfLegoColor['id']\n",
    "                      , 'inner') \\\n",
    "                .join(dfLegoPartsPartCategories, dfLegoInventoriesParts[\"part_num\"] == dfLegoPartsPartCategories[\"part_num\"],\n",
    "                     'inner') \\\n",
    "                .select(dfLegoPartsPartCategories[\"PartsName\"],\n",
    "                       dfLegoPartsPartCategories[\"PartCatName\"],\n",
    "                       dfLegoColor[\"name\"].alias(\"ColorName\"),\n",
    "                       dfLegoColor[\"is_trans\"].alias(\"IsTrans\"),\n",
    "                       dfLegoInventoriesParts[\"quantity\"].alias(\"InvPartQty\"),\n",
    "                       dfLegoInventoriesParts[\"is_spare\"].alias(\"IsSpare\"))\n",
    "dfFinalLegoInventoryParts.show()"
   ]
  },
  {
   "cell_type": "markdown",
   "id": "85695ca7",
   "metadata": {},
   "source": [
    "## DataFrame that sets has no inventory items"
   ]
  },
  {
   "cell_type": "code",
   "execution_count": 21,
   "id": "57d140e0",
   "metadata": {},
   "outputs": [
    {
     "name": "stdout",
     "output_type": "stream",
     "text": [
      "+----------------+--------------------+----+---------+--------------------+----------+-----------+-------+----------+-------+\n",
      "|      NameThemes|            NameSets|Year|InvSetQty|           PartsName|InvPartQty|PartCatName|IsSpare|     Color|IsTrans|\n",
      "+----------------+--------------------+----+---------+--------------------+----------+-----------+-------+----------+-------+\n",
      "| Speed Champions|McLaren Mercedes ...|2015|        1|                null|      null|       null|   null|      null|   null|\n",
      "| Speed Champions|Porsche 911 GT Fi...|2015|        1|                null|      null|       null|   null|      null|   null|\n",
      "|Star Wars Rebels|         The Phantom|2014|        1|                null|      null|       null|   null|      null|   null|\n",
      "|Star Wars Rebels|           The Ghost|2014|        1|                null|      null|       null|   null|      null|   null|\n",
      "|              9V|      Straight Rails|1991|        1|                null|      null|       null|   null|      null|   null|\n",
      "|              9V|        Curved Rails|1991|        2|                null|      null|       null|   null|      null|   null|\n",
      "|              9V|       Manual Points|1991|        1|                null|      null|       null|   null|      null|   null|\n",
      "|    Mars Mission|MB-01 Eagle Comma...|2007|        1|                null|      null|       null|   null|      null|   null|\n",
      "|    Mars Mission|ETX Alien Mothers...|2007|        1|                null|      null|       null|   null|      null|   null|\n",
      "|    Mars Mission|MX-71 Recon Dropship|2007|        1|                null|      null|       null|   null|      null|   null|\n",
      "|    Mars Mission|    ETX Alien Strike|2007|        1|                null|      null|       null|   null|      null|   null|\n",
      "|    Mars Mission|         MT-31 Trike|2007|        1|                null|      null|       null|   null|      null|   null|\n",
      "|    Mars Mission| MX-11 Astro Fighter|2007|        1|                null|      null|       null|   null|      null|   null|\n",
      "|    Mars Mission|MT-51 Claw-Tank A...|2007|        1|                null|      null|       null|   null|      null|   null|\n",
      "|    Construction|              Dumper|2003|        1|                null|      null|       null|   null|      null|   null|\n",
      "|    Construction|    Front End Loader|2003|        1|                null|      null|       null|   null|      null|   null|\n",
      "|        RC Train|     Horizon Express|2013|        1|(Set) Power Funct...|         1|      Other|      f|[No Color]|      f|\n",
      "| Power Functions|Power Functions T...|2011|        1|(Set) Power Funct...|         1|      Other|      f|[No Color]|      f|\n",
      "| Power Functions|Power Functions L...|2009|        1|(Set) Power Funct...|         1|      Other|      f|[No Color]|      f|\n",
      "| Power Functions|Rechargeable Batt...|2009|        1|(Set) Power Funct...|         1|      Other|      f|[No Color]|      f|\n",
      "+----------------+--------------------+----+---------+--------------------+----------+-----------+-------+----------+-------+\n",
      "only showing top 20 rows\n",
      "\n"
     ]
    }
   ],
   "source": [
    "dfLegoInvSetsInvPartsLeft = dfLegoInventoriesSets.join(dfLegoInventories\n",
    "                                                        ,dfLegoInventoriesSets[\"inventory_id\"] == dfLegoInventories[\"id\"],\n",
    "                                                        'left') \\\n",
    "                    .join(dfLegoInventoriesParts, \n",
    "                      dfLegoInventories[\"id\"] == dfLegoInventoriesParts[\"inventory_id\"],\n",
    "                      'left').join(dfLegoSetsThemes,\n",
    "                      dfLegoInventoriesSets[\"set_num\"] == dfLegoSetsThemes[\"set_num\"],\n",
    "                       \"left\").join(dfLegoPartsPartCategories,\n",
    "                      dfLegoInventoriesParts[\"part_num\"] ==dfLegoPartsPartCategories[\"part_num\"],\n",
    "                     'left') \\\n",
    "                    .join(dfLegoColor,dfLegoInventoriesParts[\"color_id\"] ==dfLegoColor[\"id\"],\n",
    "                         \"left\") \\\n",
    "                    .select(dfLegoSetsThemes['NameThemes'],\n",
    "                            dfLegoSetsThemes['NameSets'],\n",
    "                            dfLegoSetsThemes['Year'],\n",
    "                            dfLegoInventoriesSets[\"quantity\"].alias(\"InvSetQty\"),\n",
    "                            dfLegoPartsPartCategories['PartsName'],\n",
    "                            dfLegoInventoriesParts[\"quantity\"].alias(\"InvPartQty\"),\n",
    "                            dfLegoPartsPartCategories['PartCatName'],\n",
    "                            dfLegoInventoriesParts[\"is_spare\"].alias(\"IsSpare\"),\n",
    "                            dfLegoColor[\"name\"].alias(\"Color\"),\n",
    "                            dfLegoColor[\"is_trans\"].alias(\"IsTrans\")\n",
    "                           \n",
    "                       )\n",
    "\n",
    "dfLegoInvSetsInvPartsLeft.show()\n",
    "\n"
   ]
  },
  {
   "cell_type": "markdown",
   "id": "53a48b3c",
   "metadata": {},
   "source": [
    "# Exploratory Data Analysis PySpark DataFrame"
   ]
  },
  {
   "cell_type": "markdown",
   "id": "8f7efe61",
   "metadata": {},
   "source": [
    "## dfFinalLego"
   ]
  },
  {
   "cell_type": "markdown",
   "id": "e18ac58a",
   "metadata": {},
   "source": [
    "### Looking for null values"
   ]
  },
  {
   "cell_type": "code",
   "execution_count": 22,
   "id": "ffb843c9",
   "metadata": {},
   "outputs": [
    {
     "name": "stdout",
     "output_type": "stream",
     "text": [
      "+--------+----------+----+---------+---------+-----------+-----------+-------+---------+-------+\n",
      "|NameSets|NameThemes|Year|InvSetQty|PartsName|PartCatName|InvPartsQty|IsSpare|ColorName|IsTrans|\n",
      "+--------+----------+----+---------+---------+-----------+-----------+-------+---------+-------+\n",
      "|       0|         0|   0|        0|        0|          0|          0|      0|        0|      0|\n",
      "+--------+----------+----+---------+---------+-----------+-----------+-------+---------+-------+\n",
      "\n"
     ]
    }
   ],
   "source": [
    "dfFinalLego.select([count(when(isnan(c) | col(c).isNull(), c)).alias(c) for c in dfFinalLego.columns]).show()"
   ]
  },
  {
   "cell_type": "markdown",
   "id": "85ed748c",
   "metadata": {},
   "source": [
    "### Removing duplicate values"
   ]
  },
  {
   "cell_type": "code",
   "execution_count": 23,
   "id": "c2e0f9af",
   "metadata": {},
   "outputs": [
    {
     "data": {
      "text/plain": [
       "432"
      ]
     },
     "execution_count": 23,
     "metadata": {},
     "output_type": "execute_result"
    }
   ],
   "source": [
    "dfFinalLego.count()"
   ]
  },
  {
   "cell_type": "code",
   "execution_count": 24,
   "id": "8fa5ede6",
   "metadata": {
    "scrolled": true
   },
   "outputs": [
    {
     "data": {
      "text/plain": [
       "422"
      ]
     },
     "execution_count": 24,
     "metadata": {},
     "output_type": "execute_result"
    }
   ],
   "source": [
    "dfFinalLego.distinct().count()"
   ]
  },
  {
   "cell_type": "code",
   "execution_count": 25,
   "id": "9599d497",
   "metadata": {},
   "outputs": [],
   "source": [
    "dfFinalLegoDuplicate = dfFinalLego.groupBy('NameSets',\n",
    " 'Year',\n",
    " 'NameThemes',\n",
    " 'InvSetQty',\n",
    " 'InvPartsQty',\n",
    " 'IsSpare',\n",
    " 'ColorName',\n",
    " 'IsTrans',\n",
    " 'PartsName',\n",
    " 'PartCatName').count().filter(\"count > 1\")"
   ]
  },
  {
   "cell_type": "code",
   "execution_count": 26,
   "id": "727cc5e3",
   "metadata": {},
   "outputs": [
    {
     "name": "stdout",
     "output_type": "stream",
     "text": [
      "+--------+----+----------+---------+-----------+-------+---------+-------+---------+-----------+-----+\n",
      "|NameSets|Year|NameThemes|InvSetQty|InvPartsQty|IsSpare|ColorName|IsTrans|PartsName|PartCatName|count|\n",
      "+--------+----+----------+---------+-----------+-------+---------+-------+---------+-----------+-----+\n",
      "|   Po...|2009|     Po...|        1|          1|      f|    [N...|      f|    (S...|      Other|    3|\n",
      "|   Po...|2008|     Po...|        1|          1|      f|    [N...|      f|    (S...|      Other|    2|\n",
      "|   Vl...|2004|     Kn...|        1|          1|      f|    Ro...|      f|    Fo...|      No...|    2|\n",
      "|   Re...|2009|     Po...|        1|          1|      f|    [N...|      f|    (S...|      Other|    3|\n",
      "|   IR...|2009|     Po...|        1|          1|      f|    [N...|      f|    (S...|      Other|    3|\n",
      "|   Po...|2008|     Po...|        1|          1|      f|    [N...|      f|    (S...|      Other|    3|\n",
      "+--------+----+----------+---------+-----------+-------+---------+-------+---------+-----------+-----+\n",
      "\n"
     ]
    }
   ],
   "source": [
    "dfFinalLegoDuplicate.show(20,5)"
   ]
  },
  {
   "cell_type": "code",
   "execution_count": 27,
   "id": "3655fa47",
   "metadata": {},
   "outputs": [],
   "source": [
    "dfFinalLego = dfFinalLego.dropDuplicates()"
   ]
  },
  {
   "cell_type": "code",
   "execution_count": 28,
   "id": "9ff28938",
   "metadata": {},
   "outputs": [
    {
     "name": "stdout",
     "output_type": "stream",
     "text": [
      "Distinct Count: 422\n"
     ]
    }
   ],
   "source": [
    "print(\"Distinct Count: \" + str(dfFinalLego.count()))"
   ]
  },
  {
   "cell_type": "code",
   "execution_count": 29,
   "id": "fa1a27ac",
   "metadata": {},
   "outputs": [],
   "source": [
    "dfFinalLegoDuplicate = dfFinalLego.groupBy('NameSets',\n",
    " 'Year',\n",
    " 'NameThemes',\n",
    " 'InvSetQty',\n",
    " 'InvPartsQty',\n",
    " 'IsSpare',\n",
    " 'ColorName',\n",
    " 'IsTrans',\n",
    " 'PartsName',\n",
    " 'PartCatName').count().filter(\"count > 1\")"
   ]
  },
  {
   "cell_type": "code",
   "execution_count": 30,
   "id": "bd8f31de",
   "metadata": {
    "scrolled": true
   },
   "outputs": [
    {
     "name": "stdout",
     "output_type": "stream",
     "text": [
      "+--------+----+----------+---------+-----------+-------+---------+-------+---------+-----------+-----+\n",
      "|NameSets|Year|NameThemes|InvSetQty|InvPartsQty|IsSpare|ColorName|IsTrans|PartsName|PartCatName|count|\n",
      "+--------+----+----------+---------+-----------+-------+---------+-------+---------+-----------+-----+\n",
      "+--------+----+----------+---------+-----------+-------+---------+-------+---------+-----------+-----+\n",
      "\n"
     ]
    }
   ],
   "source": [
    "dfFinalLegoDuplicate.show()"
   ]
  },
  {
   "cell_type": "markdown",
   "id": "22d784b4",
   "metadata": {},
   "source": [
    "### Calculating distinct values in each column on DataFrame:"
   ]
  },
  {
   "cell_type": "code",
   "execution_count": 31,
   "id": "1e11fcd8",
   "metadata": {},
   "outputs": [
    {
     "name": "stdout",
     "output_type": "stream",
     "text": [
      "+--------+----------+----+---------+---------+-----------+-----------+-------+---------+-------+\n",
      "|NameSets|NameThemes|Year|InvSetQty|PartsName|PartCatName|InvPartsQty|IsSpare|ColorName|IsTrans|\n",
      "+--------+----------+----+---------+---------+-----------+-----------+-------+---------+-------+\n",
      "|     169|        36|  24|        2|       92|         18|         10|      2|       20|      2|\n",
      "+--------+----------+----+---------+---------+-----------+-----------+-------+---------+-------+\n",
      "\n"
     ]
    }
   ],
   "source": [
    "dfFinalLego.agg(*(countDistinct(col(c)).alias(c) for c in dfFinalLego.columns)).show()\n"
   ]
  },
  {
   "cell_type": "markdown",
   "id": "74cf0741",
   "metadata": {},
   "source": [
    "### Replacing values in a ColorName column"
   ]
  },
  {
   "cell_type": "code",
   "execution_count": 32,
   "id": "82e37249",
   "metadata": {},
   "outputs": [
    {
     "name": "stdout",
     "output_type": "stream",
     "text": [
      "+-----------------+\n",
      "|        ColorName|\n",
      "+-----------------+\n",
      "|           Orange|\n",
      "|       Royal Blue|\n",
      "|       Pearl Gold|\n",
      "|     Trans-Yellow|\n",
      "|       [No Color]|\n",
      "|          Unknown|\n",
      "|            Green|\n",
      "|      Trans-Green|\n",
      "|      Medium Blue|\n",
      "|       Light Gray|\n",
      "|             Blue|\n",
      "|   Flat Dark Gold|\n",
      "|    Metallic Gold|\n",
      "|            White|\n",
      "|Light Bluish Gray|\n",
      "|        Trans-Red|\n",
      "|            Black|\n",
      "|           Yellow|\n",
      "|              Red|\n",
      "| Dark Bluish Gray|\n",
      "+-----------------+\n",
      "\n"
     ]
    }
   ],
   "source": [
    "dfFinalLego.select(\"ColorName\").distinct().show()"
   ]
  },
  {
   "cell_type": "code",
   "execution_count": 33,
   "id": "d423cc15",
   "metadata": {},
   "outputs": [],
   "source": [
    "dfFinalLego = dfFinalLego.withColumn(\"ColorName\", when(dfFinalLego.ColorName == \"[No Color]\", \"Not Available\")\n",
    "                                                .when(dfFinalLego.ColorName == \"Unknown\", \"Not Available\")\n",
    "                                                .otherwise(dfFinalLego.ColorName))"
   ]
  },
  {
   "cell_type": "code",
   "execution_count": 34,
   "id": "54c0ae31",
   "metadata": {},
   "outputs": [
    {
     "name": "stdout",
     "output_type": "stream",
     "text": [
      "+-----------------+\n",
      "|        ColorName|\n",
      "+-----------------+\n",
      "|           Orange|\n",
      "|       Royal Blue|\n",
      "|       Pearl Gold|\n",
      "|     Trans-Yellow|\n",
      "|            Green|\n",
      "|      Trans-Green|\n",
      "|      Medium Blue|\n",
      "|       Light Gray|\n",
      "|             Blue|\n",
      "|   Flat Dark Gold|\n",
      "|    Metallic Gold|\n",
      "|            White|\n",
      "|Light Bluish Gray|\n",
      "|        Trans-Red|\n",
      "|            Black|\n",
      "|           Yellow|\n",
      "|              Red|\n",
      "|    Not Available|\n",
      "| Dark Bluish Gray|\n",
      "+-----------------+\n",
      "\n"
     ]
    }
   ],
   "source": [
    "dfFinalLego.select(\"ColorName\").distinct().show()"
   ]
  },
  {
   "cell_type": "markdown",
   "id": "2b75e8e0",
   "metadata": {},
   "source": [
    "### Converting boolean to True/False"
   ]
  },
  {
   "cell_type": "code",
   "execution_count": 35,
   "id": "846a1ce0",
   "metadata": {},
   "outputs": [
    {
     "name": "stdout",
     "output_type": "stream",
     "text": [
      "+--------+----------+----+---------+---------+-----------+-----------+-------+---------+-------+\n",
      "|NameSets|NameThemes|Year|InvSetQty|PartsName|PartCatName|InvPartsQty|IsSpare|ColorName|IsTrans|\n",
      "+--------+----------+----+---------+---------+-----------+-----------+-------+---------+-------+\n",
      "|    R...|      K...|2004|        1|     H...|       N...|          1|      f|     N...|      f|\n",
      "|    A...|      S...|2012|        1|     S...|       N...|          1|      f|     N...|      f|\n",
      "+--------+----------+----+---------+---------+-----------+-----------+-------+---------+-------+\n",
      "only showing top 2 rows\n",
      "\n"
     ]
    }
   ],
   "source": [
    "dfFinalLego.show(2,4)"
   ]
  },
  {
   "cell_type": "code",
   "execution_count": 36,
   "id": "6a390298",
   "metadata": {},
   "outputs": [],
   "source": [
    "import pyspark.sql.functions as f\n",
    "\n",
    "cols = [\"IsSpare\",\"IsTrans\"]\n",
    "\n",
    "for col in cols:\n",
    "    dfFinalLego = dfFinalLego.withColumn(\n",
    "                col,\n",
    "                f.when(\n",
    "                        f.col(col) =='f',\n",
    "                        'False'\n",
    "                ).when(\n",
    "                        f.col(col) =='t',\n",
    "                        'True')\n",
    "                .otherwise(f.col(col)))\n",
    "\n",
    "\n"
   ]
  },
  {
   "cell_type": "code",
   "execution_count": 37,
   "id": "56f617bd",
   "metadata": {},
   "outputs": [
    {
     "name": "stdout",
     "output_type": "stream",
     "text": [
      "+-------+\n",
      "|IsSpare|\n",
      "+-------+\n",
      "|  False|\n",
      "|   True|\n",
      "+-------+\n",
      "\n"
     ]
    }
   ],
   "source": [
    "dfFinalLego.select(\"IsSpare\").distinct().show()"
   ]
  },
  {
   "cell_type": "code",
   "execution_count": 38,
   "id": "7d5b3f16",
   "metadata": {},
   "outputs": [
    {
     "name": "stdout",
     "output_type": "stream",
     "text": [
      "+-------+\n",
      "|IsTrans|\n",
      "+-------+\n",
      "|  False|\n",
      "|   True|\n",
      "+-------+\n",
      "\n"
     ]
    }
   ],
   "source": [
    "dfFinalLego.select(\"IsTrans\").distinct().show()"
   ]
  },
  {
   "cell_type": "markdown",
   "id": "76ea644d",
   "metadata": {},
   "source": [
    "### Summary"
   ]
  },
  {
   "cell_type": "code",
   "execution_count": 39,
   "id": "862c5ac1",
   "metadata": {},
   "outputs": [
    {
     "name": "stdout",
     "output_type": "stream",
     "text": [
      "root\n",
      " |-- NameSets: string (nullable = true)\n",
      " |-- NameThemes: string (nullable = true)\n",
      " |-- Year: integer (nullable = true)\n",
      " |-- InvSetQty: integer (nullable = true)\n",
      " |-- PartsName: string (nullable = true)\n",
      " |-- PartCatName: string (nullable = true)\n",
      " |-- InvPartsQty: integer (nullable = true)\n",
      " |-- IsSpare: string (nullable = true)\n",
      " |-- ColorName: string (nullable = true)\n",
      " |-- IsTrans: string (nullable = true)\n",
      "\n"
     ]
    }
   ],
   "source": [
    "dfFinalLego.printSchema()\n"
   ]
  },
  {
   "cell_type": "code",
   "execution_count": 40,
   "id": "f1d6dc0f",
   "metadata": {},
   "outputs": [
    {
     "name": "stdout",
     "output_type": "stream",
     "text": [
      "+-------+----------+----------+----------+----------+----------+-----------+-----------+-------+---------+-------+\n",
      "|summary|  NameSets|NameThemes|      Year| InvSetQty| PartsName|PartCatName|InvPartsQty|IsSpare|ColorName|IsTrans|\n",
      "+-------+----------+----------+----------+----------+----------+-----------+-----------+-------+---------+-------+\n",
      "|  count|       422|       422|       422|       422|       422|        422|        422|    422|      422|    422|\n",
      "|   mean|      null|      null|1999.06...|1.04265...|      null|       null| 2.35071...|   null|     null|   null|\n",
      "| stddev|      null|      null|11.4693...|0.20231...|      null|       null| 3.34411...|   null|     null|   null|\n",
      "|    min|ARC-170...|        9V|      1969|         1|(Set) P...| Bars, L...|          1|  False|    Black|  False|\n",
      "|    max|{Town V...|     X-Pod|      2013|         2|X-Pod P...| Tubes a...|         25|   True|   Yellow|   True|\n",
      "+-------+----------+----------+----------+----------+----------+-----------+-----------+-------+---------+-------+\n",
      "\n"
     ]
    }
   ],
   "source": [
    "dfFinalLego.describe().show(20,10)"
   ]
  },
  {
   "cell_type": "markdown",
   "id": "04d080d6",
   "metadata": {},
   "source": [
    "## dfFinalLegoInvSetTheme"
   ]
  },
  {
   "cell_type": "code",
   "execution_count": 41,
   "id": "269ff613",
   "metadata": {},
   "outputs": [
    {
     "name": "stdout",
     "output_type": "stream",
     "text": [
      "+-------------------------+--------------------+----+---------+\n",
      "|                 NameSets|          NameThemes|Year|InvSetQty|\n",
      "+-------------------------+--------------------+----+---------+\n",
      "|                  Go-Cart|                Race|1999|        1|\n",
      "|        Lunar MPV Vehicle|             Futuron|1990|        1|\n",
      "|              Light Flyer|          Insectoids|1999|        1|\n",
      "|Advent Calendar 2002 C...|             Creator|2002|        1|\n",
      "|   Basic Bricks -- Medium|        Supplemental|2008|        1|\n",
      "|   Basic Bricks -- Medium|        Supplemental|2008|        1|\n",
      "|    Flora's Bubbling Bath|          Fairy-Tale|2002|        1|\n",
      "|Advent Calendar 2008 C...|                City|2008|        1|\n",
      "|Race Car Driver - Comp...|Series 3 Minifigures|2011|        1|\n",
      "|Swimming Champion - Co...|Series 7 Minifigures|2012|        1|\n",
      "|Rocker Girl - Complete...|Series 7 Minifigures|2012|        1|\n",
      "|                 Catapult|   Knights Kingdom I|2000|        1|\n",
      "|Advent Calendar 2014, ...|             Friends|2014|        1|\n",
      "|Advent Calendar 2001, ...|      Advent Sub-Set|2001|        1|\n",
      "|                     Snax|            Series 6|2015|        1|\n",
      "|             Fire Station|                Fire|2013|        1|\n",
      "|           Flexible Rails|            RC Train|2011|        1|\n",
      "|           Flexible Rails|            RC Train|2011|        1|\n",
      "|Advent Calendar 2004 C...|             Clikits|2004|        1|\n",
      "|      MX-11 Astro Fighter|        Mars Mission|2007|        1|\n",
      "|      MX-11 Astro Fighter|        Mars Mission|2007|        1|\n",
      "|Advent Calendar 2006 C...|                City|2006|        1|\n",
      "|                 Fireboat|                Fire|2007|        1|\n",
      "|                 Fireboat|                Fire|2007|        1|\n",
      "|     Curse of the Pharaoh|             Studios|2002|        1|\n",
      "+-------------------------+--------------------+----+---------+\n",
      "only showing top 25 rows\n",
      "\n"
     ]
    }
   ],
   "source": [
    "dfFinalLegoInvSetTheme.show(25,25)"
   ]
  },
  {
   "cell_type": "markdown",
   "id": "01f0379f",
   "metadata": {},
   "source": [
    "### Looking for null values"
   ]
  },
  {
   "cell_type": "code",
   "execution_count": 42,
   "id": "06fbc6c6",
   "metadata": {},
   "outputs": [],
   "source": [
    "from pyspark.sql.functions import *"
   ]
  },
  {
   "cell_type": "code",
   "execution_count": 43,
   "id": "b0d1a288",
   "metadata": {},
   "outputs": [
    {
     "name": "stdout",
     "output_type": "stream",
     "text": [
      "+--------+----------+----+---------+\n",
      "|NameSets|NameThemes|Year|InvSetQty|\n",
      "+--------+----------+----+---------+\n",
      "|       0|         0|   0|        0|\n",
      "+--------+----------+----+---------+\n",
      "\n"
     ]
    }
   ],
   "source": [
    "dfFinalLegoInvSetTheme.select([count(when(isnan(c) | col(c).isNull(),\n",
    "                                          c)).alias(c) for c in dfFinalLegoInvSetTheme.columns]).show()"
   ]
  },
  {
   "cell_type": "markdown",
   "id": "ea12f3b7",
   "metadata": {},
   "source": [
    "### Removing duplicate values"
   ]
  },
  {
   "cell_type": "code",
   "execution_count": 44,
   "id": "cbe8b712",
   "metadata": {},
   "outputs": [
    {
     "data": {
      "text/plain": [
       "2846"
      ]
     },
     "execution_count": 44,
     "metadata": {},
     "output_type": "execute_result"
    }
   ],
   "source": [
    "dfFinalLegoInvSetTheme.count()"
   ]
  },
  {
   "cell_type": "code",
   "execution_count": 45,
   "id": "0843f020",
   "metadata": {},
   "outputs": [
    {
     "data": {
      "text/plain": [
       "2317"
      ]
     },
     "execution_count": 45,
     "metadata": {},
     "output_type": "execute_result"
    }
   ],
   "source": [
    "dfFinalLegoInvSetTheme.distinct().count()"
   ]
  },
  {
   "cell_type": "code",
   "execution_count": 46,
   "id": "dffd6ec9",
   "metadata": {},
   "outputs": [
    {
     "data": {
      "text/plain": [
       "['NameSets', 'NameThemes', 'Year', 'InvSetQty']"
      ]
     },
     "execution_count": 46,
     "metadata": {},
     "output_type": "execute_result"
    }
   ],
   "source": [
    "dfFinalLegoInvSetTheme.columns"
   ]
  },
  {
   "cell_type": "code",
   "execution_count": 47,
   "id": "ded89117",
   "metadata": {},
   "outputs": [
    {
     "name": "stdout",
     "output_type": "stream",
     "text": [
      "+--------------------+--------------------+----+---------+-----+\n",
      "|            NameSets|          NameThemes|Year|InvSetQty|count|\n",
      "+--------------------+--------------------+----+---------+-----+\n",
      "|   Airplane Mechanic|             Airport|2006|        1|    2|\n",
      "|         Exo Stealth|        Power Racers|2004|        1|    2|\n",
      "|        Space Digger|       Classic Space|1981|        1|    2|\n",
      "|              Vakama|              Turaga|2001|        1|    2|\n",
      "|             Slave I|Star Wars Episode...|2000|        1|    2|\n",
      "|              Tahnok|              Bohrok|2002|        1|    4|\n",
      "|Off-Road Fire Tru...|                Fire|2010|        1|    2|\n",
      "|        Final Duel I|Star Wars Episode...|2002|        1|    3|\n",
      "|Large Locomotive ...|        My Own Train|2001|        1|   11|\n",
      "|           Nurp-Naut|            Series 4|2015|        1|    2|\n",
      "|     Skull Motorbike|             Ninjago|2011|        1|    2|\n",
      "|              Kohrak|              Bohrok|2002|        1|    4|\n",
      "|       Uruk-hai Army|      The Two Towers|2012|        1|    2|\n",
      "|               Rover|        Life On Mars|2001|        1|    2|\n",
      "|           Speedboat|              Harbor|1997|        1|    2|\n",
      "|       Vahki Rorzakh|               Vahki|2004|        1|    2|\n",
      "|           Pahrak Va|           Bohrok Va|2002|        1|    2|\n",
      "|    Visorak Vohtarak|             Visorak|2005|        1|    2|\n",
      "|                Lava|          RoboRiders|2000|        1|    2|\n",
      "|Skeletons' Prison...|         Fantasy Era|2007|        1|    2|\n",
      "+--------------------+--------------------+----+---------+-----+\n",
      "only showing top 20 rows\n",
      "\n"
     ]
    }
   ],
   "source": [
    "dfFinalLegoInvSetThemeDuplicate = dfFinalLegoInvSetTheme.groupBy('NameSets', \n",
    "                                           'NameThemes', \n",
    "                                           'Year', \n",
    "                                           'InvSetQty').count().filter(\"count > 1\")\n",
    "\n",
    "dfFinalLegoInvSetThemeDuplicate.show()"
   ]
  },
  {
   "cell_type": "code",
   "execution_count": 48,
   "id": "6e354519",
   "metadata": {},
   "outputs": [],
   "source": [
    "dfFinalLegoInvSetTheme = dfFinalLegoInvSetTheme.dropDuplicates()\n"
   ]
  },
  {
   "cell_type": "code",
   "execution_count": 49,
   "id": "bf1c22e6",
   "metadata": {},
   "outputs": [
    {
     "name": "stdout",
     "output_type": "stream",
     "text": [
      "Distinct Count: 2317\n"
     ]
    }
   ],
   "source": [
    "print(\"Distinct Count: \" + str(dfFinalLegoInvSetTheme.count()))"
   ]
  },
  {
   "cell_type": "code",
   "execution_count": 50,
   "id": "40863bfd",
   "metadata": {},
   "outputs": [
    {
     "name": "stdout",
     "output_type": "stream",
     "text": [
      "+--------+----------+----+---------+-----+\n",
      "|NameSets|NameThemes|Year|InvSetQty|count|\n",
      "+--------+----------+----+---------+-----+\n",
      "+--------+----------+----+---------+-----+\n",
      "\n"
     ]
    }
   ],
   "source": [
    "dfFinalLegoInvSetThemeDuplicate = dfFinalLegoInvSetTheme.groupBy('NameSets', \n",
    "                                           'NameThemes', \n",
    "                                           'Year', \n",
    "                                           'InvSetQty').count().filter(\"count > 1\")\n",
    "\n",
    "dfFinalLegoInvSetThemeDuplicate.show()"
   ]
  },
  {
   "cell_type": "markdown",
   "id": "6441c932",
   "metadata": {},
   "source": [
    "### Calculating distinct values in each column on DataFrame:"
   ]
  },
  {
   "cell_type": "code",
   "execution_count": 51,
   "id": "db10613d",
   "metadata": {},
   "outputs": [
    {
     "name": "stdout",
     "output_type": "stream",
     "text": [
      "+--------+----------+----+---------+\n",
      "|NameSets|NameThemes|Year|InvSetQty|\n",
      "+--------+----------+----+---------+\n",
      "|    2262|       208|  42|        7|\n",
      "+--------+----------+----+---------+\n",
      "\n"
     ]
    }
   ],
   "source": [
    "dfFinalLegoInvSetTheme.agg(*(countDistinct(col(c)).alias(c) for c in dfFinalLegoInvSetTheme.columns )).show()"
   ]
  },
  {
   "cell_type": "markdown",
   "id": "88152686",
   "metadata": {},
   "source": [
    "### Summary"
   ]
  },
  {
   "cell_type": "code",
   "execution_count": 52,
   "id": "abd0d8b0",
   "metadata": {},
   "outputs": [
    {
     "name": "stdout",
     "output_type": "stream",
     "text": [
      "root\n",
      " |-- NameSets: string (nullable = true)\n",
      " |-- NameThemes: string (nullable = true)\n",
      " |-- Year: integer (nullable = true)\n",
      " |-- InvSetQty: integer (nullable = true)\n",
      "\n"
     ]
    }
   ],
   "source": [
    "dfFinalLegoInvSetTheme.printSchema()"
   ]
  },
  {
   "cell_type": "code",
   "execution_count": 53,
   "id": "46e0fed8",
   "metadata": {},
   "outputs": [
    {
     "name": "stdout",
     "output_type": "stream",
     "text": [
      "+-------+----------+----------+----------+----------+\n",
      "|summary|  NameSets|NameThemes|      Year| InvSetQty|\n",
      "+-------+----------+----------+----------+----------+\n",
      "|  count|      2317|      2317|      2317|      2317|\n",
      "|   mean|      null|      null|2006.66...|1.45878...|\n",
      "| stddev|      null|      null|6.89310...|5.05339...|\n",
      "|    min|   Spectre|        9V|      1969|         1|\n",
      "|    max|{Town V...|     X-Pod|      2017|        60|\n",
      "+-------+----------+----------+----------+----------+\n",
      "\n"
     ]
    }
   ],
   "source": [
    "dfFinalLegoInvSetTheme.describe().show(20,10)\n",
    "\n"
   ]
  },
  {
   "cell_type": "markdown",
   "id": "281063b1",
   "metadata": {},
   "source": [
    "## dfFinalLegoInventoryParts "
   ]
  },
  {
   "cell_type": "code",
   "execution_count": 54,
   "id": "5c58e7e8",
   "metadata": {},
   "outputs": [
    {
     "name": "stdout",
     "output_type": "stream",
     "text": [
      "+--------------------+--------------------+-----------------+-------+----------+-------+\n",
      "|           PartsName|         PartCatName|        ColorName|IsTrans|InvPartQty|IsSpare|\n",
      "+--------------------+--------------------+-----------------+-------+----------+-------+\n",
      "|Minifig Space Gun...| Minifig Accessories|       Light Gray|      f|         1|      f|\n",
      "|Plate Special 1 x...|      Plates Special| Dark Bluish Gray|      f|         6|      f|\n",
      "|Plate Special 1 x...|      Plates Special|Light Bluish Gray|      f|         2|      f|\n",
      "|Plate Special 1 x...|      Plates Special|Light Bluish Gray|      f|         6|      f|\n",
      "|Minifig Space Gun...| Minifig Accessories|              Red|      f|         2|      f|\n",
      "|Minifig Space Gun...| Minifig Accessories| Dark Bluish Gray|      f|         2|      f|\n",
      "|Bionicle Weapon T...|Bionicle, Hero Fa...|            Black|      f|         6|      f|\n",
      "|Plate Special 1 x...|      Plates Special|           Yellow|      f|         1|      f|\n",
      "|Plate Special 1 x...|      Plates Special| Dark Bluish Gray|      f|         2|      f|\n",
      "|Plate Special 1 x...|      Plates Special|            White|      f|         2|      f|\n",
      "|FOUR-SIDED SIGN W...|Flags, Signs, Pla...|            White|      f|         1|      f|\n",
      "|Body Rock Monster...|            Minifigs| Trans-Neon Green|      t|         1|      f|\n",
      "|Minifig Space Gun...| Minifig Accessories|            White|      f|         1|      f|\n",
      "|Minifig Space Gun...| Minifig Accessories|Light Bluish Gray|      f|         5|      f|\n",
      "|Plate Special 1 x...|      Plates Special|            Black|      f|         4|      f|\n",
      "|Train Wheel Small...|    Wheels and Tyres|            Black|      f|         2|      f|\n",
      "|Plate Special 1 x...|      Plates Special| Dark Bluish Gray|      f|         5|      f|\n",
      "|Plate Special 1 x...|      Plates Special|            White|      f|         8|      f|\n",
      "|Plate Special 1 x...|      Plates Special|            Black|      f|         3|      f|\n",
      "|Plate Special 1 x...|      Plates Special|      Medium Blue|      f|         4|      f|\n",
      "+--------------------+--------------------+-----------------+-------+----------+-------+\n",
      "only showing top 20 rows\n",
      "\n"
     ]
    }
   ],
   "source": [
    "dfFinalLegoInventoryParts.show()"
   ]
  },
  {
   "cell_type": "markdown",
   "id": "1116a9fa",
   "metadata": {},
   "source": [
    "### Looking for null values"
   ]
  },
  {
   "cell_type": "code",
   "execution_count": 55,
   "id": "72fada88",
   "metadata": {},
   "outputs": [
    {
     "name": "stdout",
     "output_type": "stream",
     "text": [
      "+---------+-----------+---------+-------+----------+-------+\n",
      "|PartsName|PartCatName|ColorName|IsTrans|InvPartQty|IsSpare|\n",
      "+---------+-----------+---------+-------+----------+-------+\n",
      "|        0|          0|        0|      0|         0|      0|\n",
      "+---------+-----------+---------+-------+----------+-------+\n",
      "\n"
     ]
    }
   ],
   "source": [
    "dfFinalLegoInventoryParts.select([count(when(isnan(c) | col(c).isNull(),\n",
    "                                             c)).alias(c) for c in dfFinalLegoInventoryParts.columns]).show()"
   ]
  },
  {
   "cell_type": "markdown",
   "id": "256a21be",
   "metadata": {},
   "source": [
    "### Removing duplicate values"
   ]
  },
  {
   "cell_type": "code",
   "execution_count": 56,
   "id": "625b8591",
   "metadata": {},
   "outputs": [
    {
     "data": {
      "text/plain": [
       "580069"
      ]
     },
     "execution_count": 56,
     "metadata": {},
     "output_type": "execute_result"
    }
   ],
   "source": [
    "dfFinalLegoInventoryParts.count()"
   ]
  },
  {
   "cell_type": "code",
   "execution_count": 57,
   "id": "bc81a68e",
   "metadata": {},
   "outputs": [
    {
     "data": {
      "text/plain": [
       "103031"
      ]
     },
     "execution_count": 57,
     "metadata": {},
     "output_type": "execute_result"
    }
   ],
   "source": [
    "dfFinalLegoInventoryParts.distinct().count()"
   ]
  },
  {
   "cell_type": "code",
   "execution_count": 58,
   "id": "8cde1306",
   "metadata": {},
   "outputs": [
    {
     "data": {
      "text/plain": [
       "['PartsName', 'PartCatName', 'ColorName', 'IsTrans', 'InvPartQty', 'IsSpare']"
      ]
     },
     "execution_count": 58,
     "metadata": {},
     "output_type": "execute_result"
    }
   ],
   "source": [
    "dfFinalLegoInventoryParts.columns"
   ]
  },
  {
   "cell_type": "code",
   "execution_count": 59,
   "id": "257b061c",
   "metadata": {},
   "outputs": [],
   "source": [
    "dfFinalLegoInventoryPartsDuplicate = dfFinalLegoInventoryParts.groupBy('PartsName', \n",
    "                                                                       'PartCatName', \n",
    "                                                                       'ColorName', \n",
    "                                                                       'IsTrans', \n",
    "                                                                       'InvPartQty', \n",
    "                                                                       'IsSpare').count().filter(\"count > 1\")"
   ]
  },
  {
   "cell_type": "code",
   "execution_count": 60,
   "id": "03739282",
   "metadata": {},
   "outputs": [
    {
     "name": "stdout",
     "output_type": "stream",
     "text": [
      "+---------+-----------+---------+-------+----------+-------+-----+\n",
      "|PartsName|PartCatName|ColorName|IsTrans|InvPartQty|IsSpare|count|\n",
      "+---------+-----------+---------+-------+----------+-------+-----+\n",
      "|    To...|      Mi...|    Li...|      f|         1|      f|    5|\n",
      "|    Le...|      Mi...|    Ye...|      f|         1|      f|    3|\n",
      "|    Sl...|      Br...|    Li...|      f|         1|      f|   60|\n",
      "|    Sl...|      Br...|      Red|      f|         3|      f|    6|\n",
      "|    Wh...|      Wh...|    Li...|      f|         4|      f|   29|\n",
      "|    St...|      St...|    Black|      f|         2|      f|    3|\n",
      "|    Br...|      Br...|      Red|      f|         2|      f|   16|\n",
      "|    We...|      Br...|    Re...|      f|         1|      f|    2|\n",
      "|    To...|      Mi...|      Tan|      f|         1|      f|    5|\n",
      "|    Mi...|      Mi...|    Or...|      f|         1|      f|    2|\n",
      "|    Pl...|      Pl...|    Pe...|      f|         1|      t|   15|\n",
      "|    Sl...|      Br...|    Black|      f|         6|      f|    2|\n",
      "|    Mi...|      Mi...|     Blue|      f|         1|      f|    5|\n",
      "|    Br...|      Br...|    Ye...|      f|         2|      f|   20|\n",
      "|    Br...|      Br...|    White|      f|        30|      f|    3|\n",
      "|    Pl...|      Pl...|    White|      f|         5|      f|    2|\n",
      "|    Mu...|      Tr...|    Ye...|      f|         2|      f|    6|\n",
      "|    Te...|      Te...|    Black|      f|         2|      f|   43|\n",
      "|    Br...|      Br...|    Da...|      f|         2|      f|   29|\n",
      "|    Br...|      Br...|    Da...|      f|         3|      f|    7|\n",
      "+---------+-----------+---------+-------+----------+-------+-----+\n",
      "only showing top 20 rows\n",
      "\n"
     ]
    }
   ],
   "source": [
    "dfFinalLegoInventoryPartsDuplicate.show(20,5)"
   ]
  },
  {
   "cell_type": "code",
   "execution_count": 61,
   "id": "284cfb7f",
   "metadata": {},
   "outputs": [],
   "source": [
    "dfFinalLegoInventoryParts = dfFinalLegoInventoryParts.dropDuplicates()"
   ]
  },
  {
   "cell_type": "code",
   "execution_count": 62,
   "id": "a8273a79",
   "metadata": {},
   "outputs": [
    {
     "name": "stdout",
     "output_type": "stream",
     "text": [
      "Distinct Count: 103031\n"
     ]
    }
   ],
   "source": [
    "print(\"Distinct Count: \" + str(dfFinalLegoInventoryParts.count()))"
   ]
  },
  {
   "cell_type": "code",
   "execution_count": 63,
   "id": "36c24fb0",
   "metadata": {},
   "outputs": [],
   "source": [
    "dfFinalLegoInventoryPartsDuplicate = dfFinalLegoInventoryParts.groupBy('PartsName', \n",
    "                                                                       'PartCatName', \n",
    "                                                                       'ColorName', \n",
    "                                                                       'IsTrans', \n",
    "                                                                       'InvPartQty', \n",
    "                                                                       'IsSpare').count().filter(\"count > 1\")"
   ]
  },
  {
   "cell_type": "code",
   "execution_count": 64,
   "id": "0cbe9e61",
   "metadata": {},
   "outputs": [
    {
     "name": "stdout",
     "output_type": "stream",
     "text": [
      "+---------+-----------+---------+-------+----------+-------+-----+\n",
      "|PartsName|PartCatName|ColorName|IsTrans|InvPartQty|IsSpare|count|\n",
      "+---------+-----------+---------+-------+----------+-------+-----+\n",
      "+---------+-----------+---------+-------+----------+-------+-----+\n",
      "\n"
     ]
    }
   ],
   "source": [
    "dfFinalLegoInventoryPartsDuplicate.show()"
   ]
  },
  {
   "cell_type": "markdown",
   "id": "52bfdd8e",
   "metadata": {},
   "source": [
    "### Calculating distinct values in each column on DataFrame:"
   ]
  },
  {
   "cell_type": "code",
   "execution_count": 65,
   "id": "7c7f22d5",
   "metadata": {},
   "outputs": [
    {
     "name": "stdout",
     "output_type": "stream",
     "text": [
      "+---------+-----------+---------+-------+----------+-------+\n",
      "|PartsName|PartCatName|ColorName|IsTrans|InvPartQty|IsSpare|\n",
      "+---------+-----------+---------+-------+----------+-------+\n",
      "|    22942|         57|      131|      2|       239|      2|\n",
      "+---------+-----------+---------+-------+----------+-------+\n",
      "\n"
     ]
    }
   ],
   "source": [
    "dfFinalLegoInventoryParts.agg(*(countDistinct(col(c)).alias(c) for c in dfFinalLegoInventoryParts.columns )).show()"
   ]
  },
  {
   "cell_type": "markdown",
   "id": "ab9dd289",
   "metadata": {},
   "source": [
    "### Replacing values in a ColorName column"
   ]
  },
  {
   "cell_type": "code",
   "execution_count": 66,
   "id": "e00ae58c",
   "metadata": {},
   "outputs": [],
   "source": [
    "dfFinalLegoInventoryParts = dfFinalLegoInventoryParts.withColumn(\"ColorName\",\n",
    "                                                    when(dfFinalLegoInventoryParts.ColorName == \"[No Color]\", \"Not Available\")\n",
    "                                                .when(dfFinalLegoInventoryParts.ColorName == \"Unknown\", \"Not Available\")\n",
    "                                                .otherwise(dfFinalLegoInventoryParts.ColorName))"
   ]
  },
  {
   "cell_type": "code",
   "execution_count": 67,
   "id": "6dc5d291",
   "metadata": {},
   "outputs": [
    {
     "name": "stdout",
     "output_type": "stream",
     "text": [
      "+---------+-----------+---------+-------+----------+-------+\n",
      "|PartsName|PartCatName|ColorName|IsTrans|InvPartQty|IsSpare|\n",
      "+---------+-----------+---------+-------+----------+-------+\n",
      "+---------+-----------+---------+-------+----------+-------+\n",
      "\n"
     ]
    }
   ],
   "source": [
    "Color = [\"No Color\", \"Unknown\"]\n",
    "dfFinalLegoInventoryParts.filter(dfFinalLegoInventoryParts.ColorName.isin(Color)).show()\n"
   ]
  },
  {
   "cell_type": "markdown",
   "id": "699956b5",
   "metadata": {},
   "source": [
    "### Converting boolean to True/False"
   ]
  },
  {
   "cell_type": "code",
   "execution_count": 68,
   "id": "0e610234",
   "metadata": {},
   "outputs": [],
   "source": [
    "import pyspark.sql.functions as f\n",
    "\n",
    "cols = [\"IsTrans\",\"IsSpare\"]\n",
    "\n",
    "\n",
    "for col in cols:\n",
    "    dfFinalLegoInventoryParts = dfFinalLegoInventoryParts.withColumn(\n",
    "                                col,\n",
    "                                f.when(\n",
    "                                        f.col(col) == 'f',\n",
    "                                        'False'\n",
    "                                ).when(\n",
    "                                        f.col(col) == 't',\n",
    "                                        'True'\n",
    "                                ).otherwise(f.col(col)))"
   ]
  },
  {
   "cell_type": "code",
   "execution_count": 69,
   "id": "1a8a559c",
   "metadata": {},
   "outputs": [
    {
     "name": "stdout",
     "output_type": "stream",
     "text": [
      "+-------+\n",
      "|IsSpare|\n",
      "+-------+\n",
      "|  False|\n",
      "|   True|\n",
      "+-------+\n",
      "\n"
     ]
    }
   ],
   "source": [
    "dfFinalLegoInventoryParts.select(\"IsSpare\").distinct().show()"
   ]
  },
  {
   "cell_type": "code",
   "execution_count": 70,
   "id": "d9955626",
   "metadata": {},
   "outputs": [
    {
     "name": "stdout",
     "output_type": "stream",
     "text": [
      "+-------+\n",
      "|IsTrans|\n",
      "+-------+\n",
      "|  False|\n",
      "|   True|\n",
      "+-------+\n",
      "\n"
     ]
    }
   ],
   "source": [
    "dfFinalLegoInventoryParts.select(\"IsTrans\").distinct().show()"
   ]
  },
  {
   "cell_type": "code",
   "execution_count": 71,
   "id": "74dafd36",
   "metadata": {},
   "outputs": [],
   "source": [
    "from pyspark.sql.functions import *"
   ]
  },
  {
   "cell_type": "markdown",
   "id": "61260196",
   "metadata": {},
   "source": [
    "### Summary"
   ]
  },
  {
   "cell_type": "code",
   "execution_count": 72,
   "id": "ebdc1ea6",
   "metadata": {},
   "outputs": [
    {
     "name": "stdout",
     "output_type": "stream",
     "text": [
      "root\n",
      " |-- PartsName: string (nullable = true)\n",
      " |-- PartCatName: string (nullable = true)\n",
      " |-- ColorName: string (nullable = true)\n",
      " |-- IsTrans: string (nullable = true)\n",
      " |-- InvPartQty: integer (nullable = true)\n",
      " |-- IsSpare: string (nullable = true)\n",
      "\n"
     ]
    }
   ],
   "source": [
    "dfFinalLegoInventoryParts.printSchema()"
   ]
  },
  {
   "cell_type": "code",
   "execution_count": 73,
   "id": "9e81f2d1",
   "metadata": {},
   "outputs": [
    {
     "name": "stdout",
     "output_type": "stream",
     "text": [
      "+-------+----------+-----------+----------+-------+----------+-------+\n",
      "|summary| PartsName|PartCatName| ColorName|IsTrans|InvPartQty|IsSpare|\n",
      "+-------+----------+-----------+----------+-------+----------+-------+\n",
      "|  count|    103031|     103031|    103031| 103031|    103031| 103031|\n",
      "|   mean|      null|       null|      null|   null|6.25856...|   null|\n",
      "| stddev|      null|       null|      null|   null|17.4916...|   null|\n",
      "|    min| Cupboa...| Bars, L...|      Aqua|  False|         1|  False|\n",
      "|    max|Ø1,5MM ...|       Znap|Yellowi...|   True|      1440|   True|\n",
      "+-------+----------+-----------+----------+-------+----------+-------+\n",
      "\n"
     ]
    }
   ],
   "source": [
    "dfFinalLegoInventoryParts.describe().show(20,10)"
   ]
  },
  {
   "cell_type": "markdown",
   "id": "8f9d98df",
   "metadata": {},
   "source": [
    "## dfLegoInvSetsInvPartsLeft"
   ]
  },
  {
   "cell_type": "code",
   "execution_count": 74,
   "id": "19b9efcb",
   "metadata": {},
   "outputs": [
    {
     "name": "stdout",
     "output_type": "stream",
     "text": [
      "+----------------+--------------------+----+---------+--------------------+----------+-----------+-------+----------+-------+\n",
      "|      NameThemes|            NameSets|Year|InvSetQty|           PartsName|InvPartQty|PartCatName|IsSpare|     Color|IsTrans|\n",
      "+----------------+--------------------+----+---------+--------------------+----------+-----------+-------+----------+-------+\n",
      "| Speed Champions|McLaren Mercedes ...|2015|        1|                null|      null|       null|   null|      null|   null|\n",
      "| Speed Champions|Porsche 911 GT Fi...|2015|        1|                null|      null|       null|   null|      null|   null|\n",
      "|Star Wars Rebels|         The Phantom|2014|        1|                null|      null|       null|   null|      null|   null|\n",
      "|Star Wars Rebels|           The Ghost|2014|        1|                null|      null|       null|   null|      null|   null|\n",
      "|              9V|      Straight Rails|1991|        1|                null|      null|       null|   null|      null|   null|\n",
      "|              9V|        Curved Rails|1991|        2|                null|      null|       null|   null|      null|   null|\n",
      "|              9V|       Manual Points|1991|        1|                null|      null|       null|   null|      null|   null|\n",
      "|    Mars Mission|MB-01 Eagle Comma...|2007|        1|                null|      null|       null|   null|      null|   null|\n",
      "|    Mars Mission|ETX Alien Mothers...|2007|        1|                null|      null|       null|   null|      null|   null|\n",
      "|    Mars Mission|MX-71 Recon Dropship|2007|        1|                null|      null|       null|   null|      null|   null|\n",
      "|    Mars Mission|    ETX Alien Strike|2007|        1|                null|      null|       null|   null|      null|   null|\n",
      "|    Mars Mission|         MT-31 Trike|2007|        1|                null|      null|       null|   null|      null|   null|\n",
      "|    Mars Mission| MX-11 Astro Fighter|2007|        1|                null|      null|       null|   null|      null|   null|\n",
      "|    Mars Mission|MT-51 Claw-Tank A...|2007|        1|                null|      null|       null|   null|      null|   null|\n",
      "|    Construction|              Dumper|2003|        1|                null|      null|       null|   null|      null|   null|\n",
      "|    Construction|    Front End Loader|2003|        1|                null|      null|       null|   null|      null|   null|\n",
      "|        RC Train|     Horizon Express|2013|        1|(Set) Power Funct...|         1|      Other|      f|[No Color]|      f|\n",
      "| Power Functions|Power Functions T...|2011|        1|(Set) Power Funct...|         1|      Other|      f|[No Color]|      f|\n",
      "| Power Functions|Power Functions L...|2009|        1|(Set) Power Funct...|         1|      Other|      f|[No Color]|      f|\n",
      "| Power Functions|Rechargeable Batt...|2009|        1|(Set) Power Funct...|         1|      Other|      f|[No Color]|      f|\n",
      "+----------------+--------------------+----+---------+--------------------+----------+-----------+-------+----------+-------+\n",
      "only showing top 20 rows\n",
      "\n"
     ]
    }
   ],
   "source": [
    "dfLegoInvSetsInvPartsLeft.show()"
   ]
  },
  {
   "cell_type": "markdown",
   "id": "cb127a8c",
   "metadata": {},
   "source": [
    "### Looking for null values"
   ]
  },
  {
   "cell_type": "code",
   "execution_count": 75,
   "id": "380add21",
   "metadata": {},
   "outputs": [
    {
     "name": "stdout",
     "output_type": "stream",
     "text": [
      "+----------+--------+----+---------+---------+----------+-----------+-------+-----+-------+\n",
      "|NameThemes|NameSets|Year|InvSetQty|PartsName|InvPartQty|PartCatName|IsSpare|Color|IsTrans|\n",
      "+----------+--------+----+---------+---------+----------+-----------+-------+-----+-------+\n",
      "|         0|       0|   0|        0|     2657|      2657|       2657|   2657| 2657|   2657|\n",
      "+----------+--------+----+---------+---------+----------+-----------+-------+-----+-------+\n",
      "\n"
     ]
    }
   ],
   "source": [
    "\n",
    "dfLegoInvSetsInvPartsLeft.select([count(when(isnan(c) | col(c).isNull(),\n",
    "                                             c)).alias(c) for c in dfLegoInvSetsInvPartsLeft.columns]).show()"
   ]
  },
  {
   "cell_type": "markdown",
   "id": "a43edc1b",
   "metadata": {},
   "source": [
    "### Replacing null values to Not Available - there are no parts in Inventory for these sets"
   ]
  },
  {
   "cell_type": "code",
   "execution_count": 76,
   "id": "9aed00a6",
   "metadata": {},
   "outputs": [],
   "source": [
    "dfLegoInvSetsInvPartsLeft = dfLegoInvSetsInvPartsLeft.na.fill('Not Available')\n",
    "dfLegoInvSetsInvPartsLeft = dfLegoInvSetsInvPartsLeft.na.fill(0, [\"InvPartQty\"])"
   ]
  },
  {
   "cell_type": "code",
   "execution_count": 77,
   "id": "c17e3341",
   "metadata": {},
   "outputs": [
    {
     "name": "stdout",
     "output_type": "stream",
     "text": [
      "+----------+--------+----+---------+---------+----------+-----------+-------+-----+-------+\n",
      "|NameThemes|NameSets|Year|InvSetQty|PartsName|InvPartQty|PartCatName|IsSpare|Color|IsTrans|\n",
      "+----------+--------+----+---------+---------+----------+-----------+-------+-----+-------+\n",
      "|         0|       0|   0|        0|        0|         0|          0|      0|    0|      0|\n",
      "+----------+--------+----+---------+---------+----------+-----------+-------+-----+-------+\n",
      "\n"
     ]
    }
   ],
   "source": [
    "dfLegoInvSetsInvPartsLeft.select([count(when(isnan(c) | col(c).isNull(),\n",
    "                                             c)).alias(c) for c in dfLegoInvSetsInvPartsLeft.columns]).show()"
   ]
  },
  {
   "cell_type": "markdown",
   "id": "f0b3efde",
   "metadata": {},
   "source": [
    "### Removing duplicate values"
   ]
  },
  {
   "cell_type": "code",
   "execution_count": 78,
   "id": "af2251fc",
   "metadata": {},
   "outputs": [
    {
     "data": {
      "text/plain": [
       "3089"
      ]
     },
     "execution_count": 78,
     "metadata": {},
     "output_type": "execute_result"
    }
   ],
   "source": [
    "dfLegoInvSetsInvPartsLeft.count()"
   ]
  },
  {
   "cell_type": "code",
   "execution_count": 79,
   "id": "9f395277",
   "metadata": {},
   "outputs": [
    {
     "data": {
      "text/plain": [
       "2602"
      ]
     },
     "execution_count": 79,
     "metadata": {},
     "output_type": "execute_result"
    }
   ],
   "source": [
    "dfLegoInvSetsInvPartsLeft.distinct().count()"
   ]
  },
  {
   "cell_type": "code",
   "execution_count": 80,
   "id": "1915d8be",
   "metadata": {},
   "outputs": [
    {
     "data": {
      "text/plain": [
       "['NameThemes',\n",
       " 'NameSets',\n",
       " 'Year',\n",
       " 'InvSetQty',\n",
       " 'PartsName',\n",
       " 'InvPartQty',\n",
       " 'PartCatName',\n",
       " 'IsSpare',\n",
       " 'Color',\n",
       " 'IsTrans']"
      ]
     },
     "execution_count": 80,
     "metadata": {},
     "output_type": "execute_result"
    }
   ],
   "source": [
    "dfLegoInvSetsInvPartsLeft.columns"
   ]
  },
  {
   "cell_type": "code",
   "execution_count": 81,
   "id": "41d99342",
   "metadata": {},
   "outputs": [
    {
     "name": "stdout",
     "output_type": "stream",
     "text": [
      "+--------------------+--------------------+----+---------+-------------+----------+-------------+-------------+-------------+-------------+-----+\n",
      "|          NameThemes|            NameSets|Year|InvSetQty|    PartsName|InvPartQty|  PartCatName|      IsSpare|        Color|      IsTrans|count|\n",
      "+--------------------+--------------------+----+---------+-------------+----------+-------------+-------------+-------------+-------------+-----+\n",
      "|         Fantasy Era|Knights' Catapult...|2007|        1|Not Available|         0|Not Available|Not Available|Not Available|Not Available|    2|\n",
      "|                Fire|Off-Road Fire Tru...|2010|        1|Not Available|         0|Not Available|Not Available|Not Available|Not Available|    2|\n",
      "|         Fantasy Era| King's Castle Siege|2007|        1|Not Available|         0|Not Available|Not Available|Not Available|Not Available|    2|\n",
      "|           Toa Metru|           Toa Matau|2004|        1|Not Available|         0|Not Available|Not Available|Not Available|Not Available|    2|\n",
      "|              Titans|            Keetongu|2005|        1|Not Available|         0|Not Available|Not Available|Not Available|Not Available|    2|\n",
      "|             Rahkshi|             Guurahk|2003|        1|Not Available|         0|Not Available|Not Available|Not Available|Not Available|    3|\n",
      "|             Traffic|           Tow Truck|2009|        1|Not Available|         0|Not Available|Not Available|Not Available|Not Available|    3|\n",
      "|              Harbor|           Speedboat|1997|        1|Not Available|         0|Not Available|Not Available|Not Available|Not Available|    2|\n",
      "|              Soccer|Fans' Grandstand ...|2000|        1|Not Available|         0|Not Available|Not Available|Not Available|Not Available|    2|\n",
      "|Star Wars Episode...|Millennium Falcon...|2003|        1|Not Available|         0|Not Available|Not Available|Not Available|Not Available|    2|\n",
      "|              Bohrok|              Lehvak|2002|        1|Not Available|         0|Not Available|Not Available|Not Available|Not Available|    6|\n",
      "|             Rahkshi|              Lerahk|2003|        1|Not Available|         0|Not Available|Not Available|Not Available|Not Available|    4|\n",
      "|              Police|Police Minifigure...|2011|        1|Not Available|         0|Not Available|Not Available|Not Available|Not Available|    4|\n",
      "|        My Own Train|Locomotive Green ...|2001|        1|Not Available|         0|Not Available|Not Available|Not Available|Not Available|    4|\n",
      "|               Vahki|       Vahki Rorzakh|2004|        1|Not Available|         0|Not Available|Not Available|Not Available|Not Available|    2|\n",
      "|              Police|Prisoner Transpor...|2005|        1|Not Available|         0|Not Available|Not Available|Not Available|Not Available|    5|\n",
      "|        My Own Train|Locomotive Black ...|2001|        1|Not Available|         0|Not Available|Not Available|Not Available|Not Available|    4|\n",
      "|         Toa Hordika|  Toa Hordika Whenua|2005|        1|Not Available|         0|Not Available|Not Available|Not Available|Not Available|    3|\n",
      "|              Police|Police Car - Blue...|2008|        1|Not Available|         0|Not Available|Not Available|Not Available|Not Available|    4|\n",
      "|              Police|Police Motorcycle...|2005|        1|Not Available|         0|Not Available|Not Available|Not Available|Not Available|    4|\n",
      "+--------------------+--------------------+----+---------+-------------+----------+-------------+-------------+-------------+-------------+-----+\n",
      "only showing top 20 rows\n",
      "\n"
     ]
    }
   ],
   "source": [
    "dfLegoInvSetsInvPartsLeftDuplicate = dfLegoInvSetsInvPartsLeft.groupBy('NameThemes',\n",
    " 'NameSets',\n",
    " 'Year',\n",
    " 'InvSetQty',\n",
    " 'PartsName',\n",
    " 'InvPartQty',\n",
    " 'PartCatName',\n",
    " 'IsSpare',\n",
    " 'Color',\n",
    " 'IsTrans').count().filter(\"count > 1\")\n",
    "\n",
    "dfLegoInvSetsInvPartsLeftDuplicate.show()"
   ]
  },
  {
   "cell_type": "code",
   "execution_count": 82,
   "id": "e898d7d4",
   "metadata": {},
   "outputs": [],
   "source": [
    "dfLegoInvSetsInvPartsLeft = dfLegoInvSetsInvPartsLeft.dropDuplicates()"
   ]
  },
  {
   "cell_type": "code",
   "execution_count": 83,
   "id": "b7c4a256",
   "metadata": {},
   "outputs": [
    {
     "name": "stdout",
     "output_type": "stream",
     "text": [
      "+----------+--------+----+---------+---------+----------+-----------+-------+-----+-------+-----+\n",
      "|NameThemes|NameSets|Year|InvSetQty|PartsName|InvPartQty|PartCatName|IsSpare|Color|IsTrans|count|\n",
      "+----------+--------+----+---------+---------+----------+-----------+-------+-----+-------+-----+\n",
      "+----------+--------+----+---------+---------+----------+-----------+-------+-----+-------+-----+\n",
      "\n"
     ]
    }
   ],
   "source": [
    "dfLegoInvSetsInvPartsLeftDuplicate = dfLegoInvSetsInvPartsLeft.groupBy('NameThemes',\n",
    " 'NameSets',\n",
    " 'Year',\n",
    " 'InvSetQty',\n",
    " 'PartsName',\n",
    " 'InvPartQty',\n",
    " 'PartCatName',\n",
    " 'IsSpare',\n",
    " 'Color',\n",
    " 'IsTrans').count().filter(\"count > 1\")\n",
    "\n",
    "dfLegoInvSetsInvPartsLeftDuplicate.show()"
   ]
  },
  {
   "cell_type": "code",
   "execution_count": 84,
   "id": "2fe63f0f",
   "metadata": {},
   "outputs": [
    {
     "name": "stdout",
     "output_type": "stream",
     "text": [
      "Distinct Count: 2602\n"
     ]
    }
   ],
   "source": [
    "print(\"Distinct Count: \" + str(dfLegoInvSetsInvPartsLeft.count()))"
   ]
  },
  {
   "cell_type": "markdown",
   "id": "f6a47860",
   "metadata": {},
   "source": [
    "### Calculating distinct values in each column on DataFrame"
   ]
  },
  {
   "cell_type": "code",
   "execution_count": 85,
   "id": "2fbcb2db",
   "metadata": {},
   "outputs": [
    {
     "name": "stdout",
     "output_type": "stream",
     "text": [
      "+----------+--------+----+---------+---------+----------+-----------+-------+-----+-------+\n",
      "|NameThemes|NameSets|Year|InvSetQty|PartsName|InvPartQty|PartCatName|IsSpare|Color|IsTrans|\n",
      "+----------+--------+----+---------+---------+----------+-----------+-------+-----+-------+\n",
      "|       208|    2262|  42|        7|       93|        11|         19|      3|   21|      3|\n",
      "+----------+--------+----+---------+---------+----------+-----------+-------+-----+-------+\n",
      "\n"
     ]
    }
   ],
   "source": [
    "dfLegoInvSetsInvPartsLeft.agg(*(countDistinct(col(c)).alias(c) for c in dfLegoInvSetsInvPartsLeft.columns)).show()"
   ]
  },
  {
   "cell_type": "markdown",
   "id": "2d3050f3",
   "metadata": {},
   "source": [
    "### Replacing values in a ColorName column"
   ]
  },
  {
   "cell_type": "code",
   "execution_count": 86,
   "id": "19aaa1c0",
   "metadata": {},
   "outputs": [],
   "source": [
    "dfLegoInvSetsInvPartsLeft = dfLegoInvSetsInvPartsLeft.withColumn(\"Color\",\n",
    "                                                    when(dfLegoInvSetsInvPartsLeft.Color == \"[No Color]\", \"Not Available\")\n",
    "                                                .when(dfLegoInvSetsInvPartsLeft.Color == \"Unknown\", \"Not Available\")\n",
    "                                                .otherwise(dfLegoInvSetsInvPartsLeft.Color))"
   ]
  },
  {
   "cell_type": "code",
   "execution_count": 87,
   "id": "505bf820",
   "metadata": {
    "scrolled": true
   },
   "outputs": [
    {
     "name": "stdout",
     "output_type": "stream",
     "text": [
      "+-----------------+\n",
      "|            Color|\n",
      "+-----------------+\n",
      "|           Orange|\n",
      "|       Royal Blue|\n",
      "|       Pearl Gold|\n",
      "|     Trans-Yellow|\n",
      "|            Green|\n",
      "|      Trans-Green|\n",
      "|      Medium Blue|\n",
      "|       Light Gray|\n",
      "|             Blue|\n",
      "|   Flat Dark Gold|\n",
      "|    Metallic Gold|\n",
      "|            White|\n",
      "|Light Bluish Gray|\n",
      "|        Trans-Red|\n",
      "|            Black|\n",
      "|           Yellow|\n",
      "|              Red|\n",
      "|    Not Available|\n",
      "| Dark Bluish Gray|\n",
      "+-----------------+\n",
      "\n"
     ]
    }
   ],
   "source": [
    "dfLegoInvSetsInvPartsLeft.select(\"Color\").distinct().show()"
   ]
  },
  {
   "cell_type": "markdown",
   "id": "65451e1a",
   "metadata": {},
   "source": [
    "### Converting boolean to True/False"
   ]
  },
  {
   "cell_type": "code",
   "execution_count": 88,
   "id": "15c4fcc8",
   "metadata": {},
   "outputs": [],
   "source": [
    "import pyspark.sql.functions as f\n",
    "\n",
    "cols = ['IsSpare','IsTrans']\n",
    "\n",
    "for col in cols:\n",
    "    dfLegoInvSetsInvPartsLeft = dfLegoInvSetsInvPartsLeft.withColumn(\n",
    "                            col,\n",
    "                            f.when(\n",
    "                                    f.col(col) == 'f',\n",
    "                                    'False'\n",
    "                            ).when(\n",
    "                                    f.col(col) == 't',\n",
    "                                    'True'\n",
    "                            ).otherwise(f.col(col)))"
   ]
  },
  {
   "cell_type": "code",
   "execution_count": 89,
   "id": "ab2853e8",
   "metadata": {},
   "outputs": [
    {
     "name": "stdout",
     "output_type": "stream",
     "text": [
      "+-------------+\n",
      "|      IsSpare|\n",
      "+-------------+\n",
      "|        False|\n",
      "|         True|\n",
      "|Not Available|\n",
      "+-------------+\n",
      "\n"
     ]
    }
   ],
   "source": [
    "dfLegoInvSetsInvPartsLeft.select(\"IsSpare\").distinct().show()"
   ]
  },
  {
   "cell_type": "code",
   "execution_count": 90,
   "id": "fa4dcb05",
   "metadata": {},
   "outputs": [
    {
     "name": "stdout",
     "output_type": "stream",
     "text": [
      "+-------------+\n",
      "|      IsTrans|\n",
      "+-------------+\n",
      "|        False|\n",
      "|         True|\n",
      "|Not Available|\n",
      "+-------------+\n",
      "\n"
     ]
    }
   ],
   "source": [
    "dfLegoInvSetsInvPartsLeft.select(\"IsTrans\").distinct().show()"
   ]
  },
  {
   "cell_type": "code",
   "execution_count": 91,
   "id": "b7519cf8",
   "metadata": {},
   "outputs": [],
   "source": [
    "from pyspark.sql.functions import *"
   ]
  },
  {
   "cell_type": "markdown",
   "id": "7fe429f0",
   "metadata": {},
   "source": [
    "### Summary"
   ]
  },
  {
   "cell_type": "code",
   "execution_count": 92,
   "id": "0757d42f",
   "metadata": {},
   "outputs": [
    {
     "name": "stdout",
     "output_type": "stream",
     "text": [
      "root\n",
      " |-- NameThemes: string (nullable = false)\n",
      " |-- NameSets: string (nullable = false)\n",
      " |-- Year: integer (nullable = true)\n",
      " |-- InvSetQty: integer (nullable = true)\n",
      " |-- PartsName: string (nullable = false)\n",
      " |-- InvPartQty: integer (nullable = true)\n",
      " |-- PartCatName: string (nullable = false)\n",
      " |-- IsSpare: string (nullable = false)\n",
      " |-- Color: string (nullable = false)\n",
      " |-- IsTrans: string (nullable = false)\n",
      "\n"
     ]
    }
   ],
   "source": [
    "dfLegoInvSetsInvPartsLeft.printSchema()"
   ]
  },
  {
   "cell_type": "code",
   "execution_count": 93,
   "id": "5cce3327",
   "metadata": {},
   "outputs": [
    {
     "name": "stdout",
     "output_type": "stream",
     "text": [
      "+-------+----------+----------+----------+----------+----------+----------+-----------+-------+------+-------+\n",
      "|summary|NameThemes|  NameSets|      Year| InvSetQty| PartsName|InvPartQty|PartCatName|IsSpare| Color|IsTrans|\n",
      "+-------+----------+----------+----------+----------+----------+----------+-----------+-------+------+-------+\n",
      "|  count|      2602|      2602|      2602|      2602|      2602|      2602|       2602|   2602|  2602|   2602|\n",
      "|   mean|      null|      null|2005.53...|1.41352...|      null|0.38124...|       null|   null|  null|   null|\n",
      "| stddev|      null|      null|8.17875...|4.77075...|      null|1.60038...|       null|   null|  null|   null|\n",
      "|    min|        9V|   Spectre|      1969|         1|(Set) P...|         0| Bars, L...|  False| Black|  False|\n",
      "|    max|     X-Pod|{Town V...|      2017|        60|X-Pod P...|        25| Tubes a...|   True|Yellow|   True|\n",
      "+-------+----------+----------+----------+----------+----------+----------+-----------+-------+------+-------+\n",
      "\n"
     ]
    }
   ],
   "source": [
    "dfLegoInvSetsInvPartsLeft.describe().show(20,10)"
   ]
  },
  {
   "cell_type": "code",
   "execution_count": 94,
   "id": "8f87d52b",
   "metadata": {},
   "outputs": [],
   "source": [
    "## changing is IsTrans, IsSpare to False True - look for fancy transformations -- looping transformation\n",
    "## https://mrpowers.medium.com/performing-operations-on-multiple-columns-in-a-pyspark-dataframe-36e97896c378\n",
    "  ###   https://stackoverflow.com/questions/65786478/for-loop-with-case-statements\n",
    "    ## https://www.geeksforgeeks.org/apply-a-transformation-to-multiple-columns-pyspark-dataframe/"
   ]
  }
 ],
 "metadata": {
  "kernelspec": {
   "display_name": "Python 3 (ipykernel)",
   "language": "python",
   "name": "python3"
  },
  "language_info": {
   "codemirror_mode": {
    "name": "ipython",
    "version": 3
   },
   "file_extension": ".py",
   "mimetype": "text/x-python",
   "name": "python",
   "nbconvert_exporter": "python",
   "pygments_lexer": "ipython3",
   "version": "3.10.9"
  }
 },
 "nbformat": 4,
 "nbformat_minor": 5
}
