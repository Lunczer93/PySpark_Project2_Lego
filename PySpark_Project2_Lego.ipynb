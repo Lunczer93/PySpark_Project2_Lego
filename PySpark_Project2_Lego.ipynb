{
 "cells": [
  {
   "cell_type": "markdown",
   "id": "4be75338",
   "metadata": {},
   "source": [
    "# Starting Spark Session"
   ]
  },
  {
   "cell_type": "code",
   "execution_count": 1,
   "id": "d4b67a8e",
   "metadata": {},
   "outputs": [],
   "source": [
    "from pyspark.sql import SparkSession,functions, Window\n",
    "from pyspark.sql.functions import *\n",
    "from pyspark.sql.types import IntegerType,BooleanType,DateType, LongType,  DoubleType\n",
    "import glob\n"
   ]
  },
  {
   "cell_type": "markdown",
   "id": "c6b25998",
   "metadata": {},
   "source": [
    "# Creating a Spark Session called Lego"
   ]
  },
  {
   "cell_type": "code",
   "execution_count": 2,
   "id": "6e82bcb2",
   "metadata": {},
   "outputs": [],
   "source": [
    "spark = SparkSession.builder.appName('Lego').getOrCreate()"
   ]
  },
  {
   "cell_type": "code",
   "execution_count": 3,
   "id": "4eca2b64",
   "metadata": {},
   "outputs": [
    {
     "data": {
      "text/html": [
       "\n",
       "            <div>\n",
       "                <p><b>SparkSession - in-memory</b></p>\n",
       "                \n",
       "        <div>\n",
       "            <p><b>SparkContext</b></p>\n",
       "\n",
       "            <p><a href=\"http://POL-8625NG3.SIIPOLSKA.PL:4040\">Spark UI</a></p>\n",
       "\n",
       "            <dl>\n",
       "              <dt>Version</dt>\n",
       "                <dd><code>v3.4.0</code></dd>\n",
       "              <dt>Master</dt>\n",
       "                <dd><code>local[*]</code></dd>\n",
       "              <dt>AppName</dt>\n",
       "                <dd><code>Lego</code></dd>\n",
       "            </dl>\n",
       "        </div>\n",
       "        \n",
       "            </div>\n",
       "        "
      ],
      "text/plain": [
       "<pyspark.sql.session.SparkSession at 0x279e4525af0>"
      ]
     },
     "execution_count": 3,
     "metadata": {},
     "output_type": "execute_result"
    }
   ],
   "source": [
    "spark"
   ]
  },
  {
   "cell_type": "markdown",
   "id": "8bcdc422",
   "metadata": {},
   "source": [
    "# Browsing csv files from a folder"
   ]
  },
  {
   "cell_type": "code",
   "execution_count": 4,
   "id": "19348fd3",
   "metadata": {},
   "outputs": [
    {
     "name": "stdout",
     "output_type": "stream",
     "text": [
      "File names: D:\\My commercial projects\\PySpark\\Project 2 PySpark\\Lego\\colors.csv\n",
      "File names: D:\\My commercial projects\\PySpark\\Project 2 PySpark\\Lego\\inventories.csv\n",
      "File names: D:\\My commercial projects\\PySpark\\Project 2 PySpark\\Lego\\inventory_parts.csv\n",
      "File names: D:\\My commercial projects\\PySpark\\Project 2 PySpark\\Lego\\inventory_sets.csv\n",
      "File names: D:\\My commercial projects\\PySpark\\Project 2 PySpark\\Lego\\parts.csv\n",
      "File names: D:\\My commercial projects\\PySpark\\Project 2 PySpark\\Lego\\part_categories.csv\n",
      "File names: D:\\My commercial projects\\PySpark\\Project 2 PySpark\\Lego\\sets.csv\n",
      "File names: D:\\My commercial projects\\PySpark\\Project 2 PySpark\\Lego\\themes.csv\n"
     ]
    }
   ],
   "source": [
    "path = 'D:\\My commercial projects\\PySpark\\Project 2 PySpark\\Lego'\n",
    "\n",
    "filenames = glob.glob(path + \"\\*.csv\")\n",
    "\n",
    "for file in filenames:\n",
    "    print('File names:', file)"
   ]
  },
  {
   "cell_type": "markdown",
   "id": "cc1fa2a5",
   "metadata": {},
   "source": [
    "# Reading csv files into Spark DataFrame"
   ]
  },
  {
   "cell_type": "code",
   "execution_count": 5,
   "id": "48609e2a",
   "metadata": {},
   "outputs": [],
   "source": [
    "PathLegoColor = r'D:\\My commercial projects\\PySpark\\Project 2 PySpark\\Lego\\colors.csv'\n",
    "PathInventories =r'D:\\My commercial projects\\PySpark\\Project 2 PySpark\\Lego\\inventories.csv'\n",
    "PathInventoriesParts =r'D:\\My commercial projects\\PySpark\\Project 2 PySpark\\Lego\\inventory_parts.csv'\n",
    "PathInventoriesSets =r'D:\\My commercial projects\\PySpark\\Project 2 PySpark\\Lego\\inventory_sets.csv'\n",
    "PathParts = r'D:\\My commercial projects\\PySpark\\Project 2 PySpark\\Lego\\parts.csv'\n",
    "PathPartCategories =r'D:\\My commercial projects\\PySpark\\Project 2 PySpark\\Lego\\part_categories.csv'\n",
    "PathSets = r'D:\\My commercial projects\\PySpark\\Project 2 PySpark\\Lego\\sets.csv'\n",
    "PathThemes =r'D:\\My commercial projects\\PySpark\\Project 2 PySpark\\Lego\\themes.csv'"
   ]
  },
  {
   "cell_type": "code",
   "execution_count": 6,
   "id": "40ddf89e",
   "metadata": {},
   "outputs": [],
   "source": [
    "dfLegoColor = spark.read.csv(PathLegoColor,header=True,inferSchema=True)\n",
    "dfLegoInventories = spark.read.csv(PathInventories,header=True,inferSchema=True)\n",
    "dfLegoInventoriesParts = spark.read.csv(PathInventoriesParts,header=True,inferSchema=True)\n",
    "dfLegoInventoriesSets = spark.read.csv(PathInventoriesSets,header=True,inferSchema=True)\n",
    "dfLegoParts =  spark.read.csv(PathParts,header=True,inferSchema=True)\n",
    "dfLegoPartCategories = spark.read.csv(PathPartCategories,header=True,inferSchema=True)\n",
    "dfLegoSets = spark.read.csv(PathSets,header=True,inferSchema=True)\n",
    "dfLegoThemes = spark.read.csv(PathThemes,header=True,inferSchema=True)"
   ]
  },
  {
   "cell_type": "markdown",
   "id": "3da2e2f0",
   "metadata": {},
   "source": [
    "# Browsing Spark DataFrames"
   ]
  },
  {
   "cell_type": "code",
   "execution_count": 7,
   "id": "da3fbc99",
   "metadata": {},
   "outputs": [
    {
     "name": "stdout",
     "output_type": "stream",
     "text": [
      "+---+---------------+------+--------+\n",
      "| id|           name|   rgb|is_trans|\n",
      "+---+---------------+------+--------+\n",
      "| -1|        Unknown|0033B2|       f|\n",
      "|  0|          Black|05131D|       f|\n",
      "|  1|           Blue|0055BF|       f|\n",
      "|  2|          Green|237841|       f|\n",
      "|  3| Dark Turquoise|008F9B|       f|\n",
      "|  4|            Red|C91A09|       f|\n",
      "|  5|      Dark Pink|C870A0|       f|\n",
      "|  6|          Brown|583927|       f|\n",
      "|  7|     Light Gray|9BA19D|       f|\n",
      "|  8|      Dark Gray|6D6E5C|       f|\n",
      "|  9|     Light Blue|B4D2E3|       f|\n",
      "| 10|   Bright Green|4B9F4A|       f|\n",
      "| 11|Light Turquoise|55A5AF|       f|\n",
      "| 12|         Salmon|F2705E|       f|\n",
      "| 13|           Pink|FC97AC|       f|\n",
      "| 14|         Yellow|F2CD37|       f|\n",
      "| 15|          White|FFFFFF|       f|\n",
      "| 17|    Light Green|C2DAB8|       f|\n",
      "| 18|   Light Yellow|FBE696|       f|\n",
      "| 19|            Tan|E4CD9E|       f|\n",
      "+---+---------------+------+--------+\n",
      "only showing top 20 rows\n",
      "\n"
     ]
    }
   ],
   "source": [
    "dfLegoColor.show()"
   ]
  },
  {
   "cell_type": "code",
   "execution_count": 8,
   "id": "9cb00fb5",
   "metadata": {},
   "outputs": [
    {
     "name": "stdout",
     "output_type": "stream",
     "text": [
      "+---+-------+---------+\n",
      "| id|version|  set_num|\n",
      "+---+-------+---------+\n",
      "|  1|      1|   7922-1|\n",
      "|  3|      1|   3931-1|\n",
      "|  4|      1|   6942-1|\n",
      "| 15|      1|   5158-1|\n",
      "| 16|      1|    903-1|\n",
      "| 17|      1| 850950-1|\n",
      "| 19|      1|   4444-1|\n",
      "| 21|      1|   3474-1|\n",
      "| 22|      1|  30277-1|\n",
      "| 25|      1| 71012-11|\n",
      "| 26|      1|   6435-1|\n",
      "| 27|      1|   3055-1|\n",
      "| 28|      1|   7899-1|\n",
      "| 29|      1|   1076-3|\n",
      "| 30|      1|  40107-1|\n",
      "| 31|      1|     14-4|\n",
      "| 32|      1|  4024-21|\n",
      "| 33|      1|   6356-1|\n",
      "| 34|      1| 71017-20|\n",
      "| 35|      1|5004559-1|\n",
      "+---+-------+---------+\n",
      "only showing top 20 rows\n",
      "\n"
     ]
    }
   ],
   "source": [
    "dfLegoInventories.show()"
   ]
  },
  {
   "cell_type": "code",
   "execution_count": 9,
   "id": "da49575e",
   "metadata": {},
   "outputs": [
    {
     "name": "stdout",
     "output_type": "stream",
     "text": [
      "+------------+-----------+--------+--------+--------+\n",
      "|inventory_id|   part_num|color_id|quantity|is_spare|\n",
      "+------------+-----------+--------+--------+--------+\n",
      "|           1|   48379c01|      72|       1|       f|\n",
      "|           1|      48395|       7|       1|       f|\n",
      "|           1|   mcsport6|      25|       1|       f|\n",
      "|           1|     paddle|       0|       1|       f|\n",
      "|           3|11816pr0005|      78|       1|       f|\n",
      "|           3|       2343|      47|       1|       f|\n",
      "|           3|       3003|      29|       1|       f|\n",
      "|           3|      30176|       2|       1|       f|\n",
      "|           3|       3020|      15|       1|       f|\n",
      "|           3|       3022|      15|       2|       f|\n",
      "|           3|       3023|      15|       1|       f|\n",
      "|           3|      30357|      29|       4|       f|\n",
      "|           3|       3039|      15|       1|       f|\n",
      "|           3|      3062b|      15|       1|       f|\n",
      "|           3|      3068b|      29|       1|       f|\n",
      "|           3|      3069b|      29|       2|       f|\n",
      "|           3|      3069b|      27|       5|       f|\n",
      "|           3|      33291|     191|       3|       f|\n",
      "|           3|      33291|     191|       1|       t|\n",
      "|           3|       3795|      15|       1|       f|\n",
      "+------------+-----------+--------+--------+--------+\n",
      "only showing top 20 rows\n",
      "\n"
     ]
    }
   ],
   "source": [
    "dfLegoInventoriesParts.show()"
   ]
  },
  {
   "cell_type": "code",
   "execution_count": 10,
   "id": "82404ebb",
   "metadata": {},
   "outputs": [
    {
     "name": "stdout",
     "output_type": "stream",
     "text": [
      "+------------+-------+--------+\n",
      "|inventory_id|set_num|quantity|\n",
      "+------------+-------+--------+\n",
      "|          35|75911-1|       1|\n",
      "|          35|75912-1|       1|\n",
      "|          39|75048-1|       1|\n",
      "|          39|75053-1|       1|\n",
      "|          50| 4515-1|       1|\n",
      "|          50| 4520-1|       2|\n",
      "|          50| 4531-1|       1|\n",
      "|          71| 7690-1|       1|\n",
      "|          71| 7691-1|       1|\n",
      "|          71| 7692-1|       1|\n",
      "|          71| 7693-1|       1|\n",
      "|          71| 7694-1|       1|\n",
      "|          71| 7695-1|       1|\n",
      "|          71| 7697-1|       1|\n",
      "|          81| 8451-1|       1|\n",
      "|          81| 8453-1|       1|\n",
      "|          87|10233-1|       1|\n",
      "|          87|88002-1|       1|\n",
      "|          87| 8870-1|       1|\n",
      "|          87| 8878-1|       1|\n",
      "+------------+-------+--------+\n",
      "only showing top 20 rows\n",
      "\n"
     ]
    }
   ],
   "source": [
    "dfLegoInventoriesSets.show()"
   ]
  },
  {
   "cell_type": "code",
   "execution_count": 11,
   "id": "5ecae63e",
   "metadata": {},
   "outputs": [
    {
     "name": "stdout",
     "output_type": "stream",
     "text": [
      "+-----------+------------------------------------------------------------------------------+-----------+\n",
      "|part_num   |name                                                                          |part_cat_id|\n",
      "+-----------+------------------------------------------------------------------------------+-----------+\n",
      "|0687b1     |Set 0687 Activity Booklet 1                                                   |17         |\n",
      "|0901       |Baseplate 16 x 30 with Set 080 Yellow House Print                             |1          |\n",
      "|0902       |Baseplate 16 x 24 with Set 080 Small White House Print                        |1          |\n",
      "|0903       |Baseplate 16 x 24 with Set 080 Red House Print                                |1          |\n",
      "|0904       |Baseplate 16 x 24 with Set 080 Large White House Print                        |1          |\n",
      "|1          |Homemaker Bookcase 2 x 4 x 4                                                  |7          |\n",
      "|10         |Baseplate 24 x 32                                                             |1          |\n",
      "|10016414   |Sticker Sheet #1 for 41055-1                                                  |17         |\n",
      "|10019stk01 |Sticker for Set 10019 - (43274/4170393)                                       |17         |\n",
      "|10026stk01 |Sticker for Set 10026 - (44942/4184185)                                       |17         |\n",
      "|10029stk01 |Sticker for Set 10029 - (4216816)                                             |17         |\n",
      "|10036stk01 |Sticker for Set 10036 - (821407)                                              |17         |\n",
      "|10039      |Pullback Motor 8 x 4 x 2/3                                                    |44         |\n",
      "|10048      |Minifig Hair Tousled                                                          |13         |\n",
      "|10049      |Minifig Shield Broad with Spiked Bottom and Cutout Corner                     |27         |\n",
      "|10049pr0001|Minifig Shield Broad with Spiked Bottom and Cutout Corner with Handprint Print|27         |\n",
      "|10050      |Minifig Sword [Uruk-hai]                                                      |27         |\n",
      "|10051      |Minifig Helmet Castle with Lateral Comb [Uruk-hai]                            |27         |\n",
      "|10051pr01  |Minifig Helmet Castle with Lateral Comb and Handprint Print                   |27         |\n",
      "|10052      |Minifig Beard, Rounded End [Gandalf]                                          |27         |\n",
      "+-----------+------------------------------------------------------------------------------+-----------+\n",
      "only showing top 20 rows\n",
      "\n"
     ]
    }
   ],
   "source": [
    "dfLegoParts.show(truncate=False)"
   ]
  },
  {
   "cell_type": "code",
   "execution_count": 12,
   "id": "bd28e4eb",
   "metadata": {},
   "outputs": [
    {
     "name": "stdout",
     "output_type": "stream",
     "text": [
      "+---+---------------------------+\n",
      "|id |name                       |\n",
      "+---+---------------------------+\n",
      "|1  |Baseplates                 |\n",
      "|2  |Bricks Printed             |\n",
      "|3  |Bricks Sloped              |\n",
      "|4  |Duplo, Quatro and Primo    |\n",
      "|5  |Bricks Special             |\n",
      "|6  |Bricks Wedged              |\n",
      "|7  |Containers                 |\n",
      "|8  |Technic Bricks             |\n",
      "|9  |Plates Special             |\n",
      "|10 |Tiles Printed              |\n",
      "|11 |Bricks                     |\n",
      "|12 |Technic Connectors         |\n",
      "|13 |Minifigs                   |\n",
      "|14 |Plates                     |\n",
      "|15 |Tiles Special              |\n",
      "|16 |Windows and Doors          |\n",
      "|17 |Non-LEGO                   |\n",
      "|18 |Hinges, Arms and Turntables|\n",
      "|19 |Tiles                      |\n",
      "|20 |Bricks Round and Cones     |\n",
      "+---+---------------------------+\n",
      "only showing top 20 rows\n",
      "\n"
     ]
    }
   ],
   "source": [
    "dfLegoPartCategories.show(truncate=False)"
   ]
  },
  {
   "cell_type": "code",
   "execution_count": 13,
   "id": "833990f9",
   "metadata": {},
   "outputs": [
    {
     "name": "stdout",
     "output_type": "stream",
     "text": [
      "+-------+---------------------------------+----+--------+---------+\n",
      "|set_num|name                             |year|theme_id|num_parts|\n",
      "+-------+---------------------------------+----+--------+---------+\n",
      "|00-1   |Weetabix Castle                  |1970|414     |471      |\n",
      "|0011-2 |Town Mini-Figures                |1978|84      |12       |\n",
      "|0011-3 |Castle 2 for 1 Bonus Offer       |1987|199     |2        |\n",
      "|0012-1 |Space Mini-Figures               |1979|143     |12       |\n",
      "|0013-1 |Space Mini-Figures               |1979|143     |12       |\n",
      "|0014-1 |Space Mini-Figures               |1979|143     |12       |\n",
      "|0015-1 |Space Mini-Figures               |1979|143     |18       |\n",
      "|0016-1 |Castle Mini Figures              |1978|186     |15       |\n",
      "|00-2   |Weetabix Promotional House 1     |1976|413     |147      |\n",
      "|00-3   |Weetabix Promotional House 2     |1976|413     |149      |\n",
      "|00-4   |Weetabix Promotional Windmill    |1976|413     |126      |\n",
      "|005-1  |Basic Building Set in Cardboard  |1965|366     |35       |\n",
      "|00-6   |Special Offer                    |1985|67      |3        |\n",
      "|00-7   |Weetabix Promotional Lego Village|1976|413     |3        |\n",
      "|010-1  |Basic Building Set in Cardboard  |1965|366     |57       |\n",
      "|010-3  |Basic Building Set               |1968|366     |77       |\n",
      "|011-1  |Basic Building Set               |1968|366     |145      |\n",
      "|022-1  |Basic Building Set               |1968|366     |110      |\n",
      "|03093-1|The Race to Build It Board Game  |1999|502     |70       |\n",
      "|033-2  |Basic Building Set               |1968|366     |177      |\n",
      "+-------+---------------------------------+----+--------+---------+\n",
      "only showing top 20 rows\n",
      "\n"
     ]
    }
   ],
   "source": [
    "dfLegoSets.show(truncate=False)"
   ]
  },
  {
   "cell_type": "code",
   "execution_count": 14,
   "id": "d3813dcf",
   "metadata": {},
   "outputs": [
    {
     "name": "stdout",
     "output_type": "stream",
     "text": [
      "+---+---------------+---------+\n",
      "| id|           name|parent_id|\n",
      "+---+---------------+---------+\n",
      "|  1|        Technic|     null|\n",
      "|  2| Arctic Technic|        1|\n",
      "|  3|    Competition|        1|\n",
      "|  4| Expert Builder|        1|\n",
      "|  5|          Model|        1|\n",
      "|  6|        Airport|        5|\n",
      "|  7|   Construction|        5|\n",
      "|  8|           Farm|        5|\n",
      "|  9|           Fire|        5|\n",
      "| 10|         Harbor|        5|\n",
      "| 11|       Off-Road|        5|\n",
      "| 12|           Race|        5|\n",
      "| 13|   Riding Cycle|        5|\n",
      "| 14|          Robot|        5|\n",
      "| 15|        Traffic|        5|\n",
      "| 16|     RoboRiders|        1|\n",
      "| 17| Speed Slammers|        1|\n",
      "| 18|      Star Wars|        1|\n",
      "| 19|   Supplemental|        1|\n",
      "| 20|Throwbot Slizer|        1|\n",
      "+---+---------------+---------+\n",
      "only showing top 20 rows\n",
      "\n"
     ]
    }
   ],
   "source": [
    "dfLegoThemes.show()"
   ]
  },
  {
   "cell_type": "markdown",
   "id": "4e5d5d17",
   "metadata": {},
   "source": [
    "# Combining DataFrames "
   ]
  },
  {
   "cell_type": "code",
   "execution_count": 15,
   "id": "ccfce7ff",
   "metadata": {},
   "outputs": [
    {
     "name": "stdout",
     "output_type": "stream",
     "text": [
      "+-------+---------------------------------+----+------------+\n",
      "|set_num|NameSets                         |Year|NameThemes  |\n",
      "+-------+---------------------------------+----+------------+\n",
      "|00-1   |Weetabix Castle                  |1970|Castle      |\n",
      "|0011-2 |Town Mini-Figures                |1978|Supplemental|\n",
      "|0011-3 |Castle 2 for 1 Bonus Offer       |1987|Lion Knights|\n",
      "|0012-1 |Space Mini-Figures               |1979|Supplemental|\n",
      "|0013-1 |Space Mini-Figures               |1979|Supplemental|\n",
      "|0014-1 |Space Mini-Figures               |1979|Supplemental|\n",
      "|0015-1 |Space Mini-Figures               |1979|Supplemental|\n",
      "|0016-1 |Castle Mini Figures              |1978|Castle      |\n",
      "|00-2   |Weetabix Promotional House 1     |1976|Building    |\n",
      "|00-3   |Weetabix Promotional House 2     |1976|Building    |\n",
      "|00-4   |Weetabix Promotional Windmill    |1976|Building    |\n",
      "|005-1  |Basic Building Set in Cardboard  |1965|Basic Set   |\n",
      "|00-6   |Special Offer                    |1985|Classic Town|\n",
      "|00-7   |Weetabix Promotional Lego Village|1976|Building    |\n",
      "|010-1  |Basic Building Set in Cardboard  |1965|Basic Set   |\n",
      "|010-3  |Basic Building Set               |1968|Basic Set   |\n",
      "|011-1  |Basic Building Set               |1968|Basic Set   |\n",
      "|022-1  |Basic Building Set               |1968|Basic Set   |\n",
      "|03093-1|The Race to Build It Board Game  |1999|Game        |\n",
      "|033-2  |Basic Building Set               |1968|Basic Set   |\n",
      "+-------+---------------------------------+----+------------+\n",
      "only showing top 20 rows\n",
      "\n"
     ]
    }
   ],
   "source": [
    "dfLegoSetsThemes = dfLegoSets.join(dfLegoThemes,dfLegoSets[\"theme_id\"] == dfLegoThemes[\"id\"], 'inner') \\\n",
    "                .select(dfLegoSets[\"set_num\"],\n",
    "                       dfLegoSets[\"name\"].alias(\"NameSets\"),\n",
    "                       dfLegoSets[\"year\"].alias(\"Year\"),\n",
    "                       dfLegoThemes[\"name\"].alias('NameThemes'))\n",
    "dfLegoSetsThemes.show(truncate=False)"
   ]
  },
  {
   "cell_type": "code",
   "execution_count": 16,
   "id": "b79d2ddc",
   "metadata": {},
   "outputs": [
    {
     "name": "stdout",
     "output_type": "stream",
     "text": [
      "+-------+---------+--------+-----------+-------+----------+-------+\n",
      "|set_num|InvSetQTy|part_num|InvPartsQty|IsSpare|ColorName |IsTrans|\n",
      "+-------+---------+--------+-----------+-------+----------+-------+\n",
      "|8884-1 |1        |8887-1  |1          |f      |[No Color]|f      |\n",
      "|8879-1 |1        |8887-1  |1          |f      |[No Color]|f      |\n",
      "|8878-1 |1        |8887-1  |1          |f      |[No Color]|f      |\n",
      "|8870-1 |1        |8887-1  |1          |f      |[No Color]|f      |\n",
      "|88002-1|1        |8887-1  |1          |f      |[No Color]|f      |\n",
      "|10233-1|1        |8887-1  |1          |f      |[No Color]|f      |\n",
      "|8596-1 |1        |48419   |1          |f      |Black     |f      |\n",
      "|8593-1 |1        |48419   |1          |f      |Black     |f      |\n",
      "|7958-9 |1        |4625992 |1          |f      |Royal Blue|f      |\n",
      "|7958-8 |1        |4625992 |1          |f      |Royal Blue|f      |\n",
      "|7958-7 |1        |4625992 |1          |f      |Royal Blue|f      |\n",
      "|7958-6 |1        |4625992 |1          |f      |Royal Blue|f      |\n",
      "|7958-5 |1        |4625992 |1          |f      |Royal Blue|f      |\n",
      "|7958-4 |1        |4625992 |1          |f      |Royal Blue|f      |\n",
      "|7958-3 |1        |4625992 |1          |f      |Royal Blue|f      |\n",
      "|7958-25|1        |4625992 |1          |f      |Royal Blue|f      |\n",
      "|7958-24|1        |4625992 |1          |f      |Royal Blue|f      |\n",
      "|7958-23|1        |4625992 |1          |f      |Royal Blue|f      |\n",
      "|7958-22|1        |4625992 |1          |f      |Royal Blue|f      |\n",
      "|7958-21|1        |4625992 |1          |f      |Royal Blue|f      |\n",
      "+-------+---------+--------+-----------+-------+----------+-------+\n",
      "only showing top 20 rows\n",
      "\n"
     ]
    }
   ],
   "source": [
    "dfLegoInvSetsInvPartsColor = dfLegoInventoriesSets.join(dfLegoInventories\n",
    "                                                        ,dfLegoInventoriesSets[\"inventory_id\"] == dfLegoInventories[\"id\"],\n",
    "                                                        'inner') \\\n",
    "                .join(dfLegoInventoriesParts, \n",
    "                      dfLegoInventories[\"id\"] == dfLegoInventoriesParts[\"inventory_id\"]\n",
    "                      ,'inner') \\\n",
    "                .join(dfLegoColor,dfLegoInventoriesParts['color_id'] == dfLegoColor['id']\n",
    "                      , 'inner') \\\n",
    "                .select(dfLegoInventoriesSets.set_num,\n",
    "                        dfLegoInventoriesSets.quantity.alias(\"InvSetQTy\"), \n",
    "                        dfLegoInventoriesParts.part_num,\n",
    "                        dfLegoInventoriesParts.quantity.alias(\"InvPartsQty\"),\n",
    "                        dfLegoInventoriesParts.is_spare.alias(\"IsSpare\"),\n",
    "                        dfLegoColor.name.alias(\"ColorName\"), \n",
    "                        dfLegoColor.is_trans.alias(\"IsTrans\"))\n",
    "\n",
    "dfLegoInvSetsInvPartsColor.show(truncate=False)"
   ]
  },
  {
   "cell_type": "code",
   "execution_count": 17,
   "id": "ed5fadac",
   "metadata": {},
   "outputs": [
    {
     "name": "stdout",
     "output_type": "stream",
     "text": [
      "+-----------+------------------------------------------------------------------------------+-------------------+\n",
      "|part_num   |PartsName                                                                     |PartCatName        |\n",
      "+-----------+------------------------------------------------------------------------------+-------------------+\n",
      "|0687b1     |Set 0687 Activity Booklet 1                                                   |Non-LEGO           |\n",
      "|0901       |Baseplate 16 x 30 with Set 080 Yellow House Print                             |Baseplates         |\n",
      "|0902       |Baseplate 16 x 24 with Set 080 Small White House Print                        |Baseplates         |\n",
      "|0903       |Baseplate 16 x 24 with Set 080 Red House Print                                |Baseplates         |\n",
      "|0904       |Baseplate 16 x 24 with Set 080 Large White House Print                        |Baseplates         |\n",
      "|1          |Homemaker Bookcase 2 x 4 x 4                                                  |Containers         |\n",
      "|10         |Baseplate 24 x 32                                                             |Baseplates         |\n",
      "|10016414   |Sticker Sheet #1 for 41055-1                                                  |Non-LEGO           |\n",
      "|10019stk01 |Sticker for Set 10019 - (43274/4170393)                                       |Non-LEGO           |\n",
      "|10026stk01 |Sticker for Set 10026 - (44942/4184185)                                       |Non-LEGO           |\n",
      "|10029stk01 |Sticker for Set 10029 - (4216816)                                             |Non-LEGO           |\n",
      "|10036stk01 |Sticker for Set 10036 - (821407)                                              |Non-LEGO           |\n",
      "|10039      |Pullback Motor 8 x 4 x 2/3                                                    |Mechanical         |\n",
      "|10048      |Minifig Hair Tousled                                                          |Minifigs           |\n",
      "|10049      |Minifig Shield Broad with Spiked Bottom and Cutout Corner                     |Minifig Accessories|\n",
      "|10049pr0001|Minifig Shield Broad with Spiked Bottom and Cutout Corner with Handprint Print|Minifig Accessories|\n",
      "|10050      |Minifig Sword [Uruk-hai]                                                      |Minifig Accessories|\n",
      "|10051      |Minifig Helmet Castle with Lateral Comb [Uruk-hai]                            |Minifig Accessories|\n",
      "|10051pr01  |Minifig Helmet Castle with Lateral Comb and Handprint Print                   |Minifig Accessories|\n",
      "|10052      |Minifig Beard, Rounded End [Gandalf]                                          |Minifig Accessories|\n",
      "+-----------+------------------------------------------------------------------------------+-------------------+\n",
      "only showing top 20 rows\n",
      "\n"
     ]
    }
   ],
   "source": [
    "dfLegoPartsPartCategories = dfLegoParts.join(dfLegoPartCategories, dfLegoParts[\"part_cat_id\"] == dfLegoPartCategories[\"id\"],\n",
    "                                             'inner') \\\n",
    "                       .select(\n",
    "                       dfLegoParts[\"part_num\"],\n",
    "                       dfLegoParts[\"name\"].alias(\"PartsName\"),\n",
    "                       dfLegoPartCategories[\"name\"].alias(\"PartCatName\"))\n",
    "\n",
    "\n",
    "dfLegoPartsPartCategories.show(truncate=False) "
   ]
  },
  {
   "cell_type": "markdown",
   "id": "133bbb5b",
   "metadata": {},
   "source": [
    "# Combining all PySpark DataFrames into one"
   ]
  },
  {
   "cell_type": "markdown",
   "id": "7982887b",
   "metadata": {},
   "source": [
    "## Final Lego DataFrame"
   ]
  },
  {
   "cell_type": "code",
   "execution_count": 18,
   "id": "5cb2c4d2",
   "metadata": {},
   "outputs": [
    {
     "name": "stdout",
     "output_type": "stream",
     "text": [
      "+--------------------+----+---------------+---------+-----------+-------+----------+-------+--------------------+-----------+\n",
      "|            NameSets|Year|     NameThemes|InvSetQty|InvPartsQty|IsSpare| ColorName|IsTrans|           PartsName|PartCatName|\n",
      "+--------------------+----+---------------+---------+-----------+-------+----------+-------+--------------------+-----------+\n",
      "|Power Functions I...|2008|Power Functions|        1|          1|      f|[No Color]|      f|(Set) Power Funct...|      Other|\n",
      "|IR Speed Remote C...|2009|Power Functions|        1|          1|      f|[No Color]|      f|(Set) Power Funct...|      Other|\n",
      "+--------------------+----+---------------+---------+-----------+-------+----------+-------+--------------------+-----------+\n",
      "only showing top 2 rows\n",
      "\n"
     ]
    }
   ],
   "source": [
    "dfFinalLego =dfLegoSetsThemes.join(dfLegoInvSetsInvPartsColor,\n",
    "                                   dfLegoSetsThemes[\"set_num\"] == dfLegoInvSetsInvPartsColor[\"set_num\"]\n",
    "                      ,'inner') \\\n",
    "                .join(dfLegoPartsPartCategories,dfLegoInvSetsInvPartsColor[\"part_num\"] ==dfLegoPartsPartCategories[\"part_num\"],\n",
    "                     'inner') \\\n",
    "                .select(dfLegoSetsThemes[\"NameSets\"],\n",
    "                       dfLegoSetsThemes[\"Year\"],\n",
    "                       dfLegoSetsThemes[\"NameThemes\"],\n",
    "                       dfLegoInvSetsInvPartsColor[\"InvSetQty\"],\n",
    "                       dfLegoInvSetsInvPartsColor[\"InvPartsQty\"],\n",
    "                       dfLegoInvSetsInvPartsColor[\"IsSpare\"],\n",
    "                       dfLegoInvSetsInvPartsColor[\"ColorName\"],\n",
    "                       dfLegoInvSetsInvPartsColor[\"IsTrans\"],\n",
    "                       dfLegoPartsPartCategories[\"PartsName\"],\n",
    "                       dfLegoPartsPartCategories[\"PartCatName\"]) \n",
    "dfFinalLego.show(2)"
   ]
  },
  {
   "cell_type": "markdown",
   "id": "858c587d",
   "metadata": {},
   "source": [
    "## Final Inventory Sets DataFrame"
   ]
  },
  {
   "cell_type": "code",
   "execution_count": 19,
   "id": "e54d7a01",
   "metadata": {},
   "outputs": [
    {
     "name": "stdout",
     "output_type": "stream",
     "text": [
      "+-------------------------------------------------------+--------------------+----+---------+\n",
      "|NameSets                                               |NameThemes          |Year|InvSetQty|\n",
      "+-------------------------------------------------------+--------------------+----+---------+\n",
      "|Light Flyer                                            |Insectoids          |1999|1        |\n",
      "|Advent Calendar 2002 Creator (Day 18) Space Shuttle    |Creator             |2002|1        |\n",
      "|Rocker Girl - Complete Set                             |Series 7 Minifigures|2012|1        |\n",
      "|Swimming Champion - Complete Set                       |Series 7 Minifigures|2012|1        |\n",
      "|Basic Bricks -- Medium                                 |Supplemental        |2008|1        |\n",
      "|Advent Calendar 2008 City (Day 12) Oven                |City                |2008|1        |\n",
      "|Flora's Bubbling Bath                                  |Fairy-Tale          |2002|1        |\n",
      "|Race Car Driver - Complete Set                         |Series 3 Minifigures|2011|1        |\n",
      "|Basic Bricks -- Medium                                 |Supplemental        |2008|1        |\n",
      "|Go-Cart                                                |Race                |1999|1        |\n",
      "|Lunar MPV Vehicle                                      |Futuron             |1990|1        |\n",
      "|MX-11 Astro Fighter                                    |Mars Mission        |2007|1        |\n",
      "|Advent Calendar 2004 Clikits (Day 11) Icons            |Clikits             |2004|1        |\n",
      "|Fireboat                                               |Fire                |2007|1        |\n",
      "|Advent Calendar 2014, Friends (Day 3) - Gift and Basket|Friends             |2014|1        |\n",
      "|Snax                                                   |Series 6            |2015|1        |\n",
      "|Fire Station                                           |Fire                |2013|1        |\n",
      "|MX-11 Astro Fighter                                    |Mars Mission        |2007|1        |\n",
      "|Fireboat                                               |Fire                |2007|1        |\n",
      "|Advent Calendar 2006 City (Day 19) Mechanic            |City                |2006|1        |\n",
      "+-------------------------------------------------------+--------------------+----+---------+\n",
      "only showing top 20 rows\n",
      "\n"
     ]
    }
   ],
   "source": [
    "dfFinalLegoInvSetTheme = dfLegoInventoriesSets.join(dfLegoInventories\n",
    "                                                        ,dfLegoInventoriesSets[\"inventory_id\"] == dfLegoInventories[\"id\"],\n",
    "                                                        'inner') \\\n",
    "                    .join(dfLegoSetsThemes,dfLegoInventoriesSets[\"set_num\"] ==dfLegoSetsThemes[\"set_num\"],\n",
    "                          'inner') \\\n",
    "                    .select(dfLegoSetsThemes[\"NameSets\"],\n",
    "                           dfLegoSetsThemes[\"NameThemes\"],\n",
    "                           dfLegoSetsThemes[\"Year\"],\n",
    "                           dfLegoInventoriesSets['quantity'].alias(\"InvSetQty\"))\n",
    "\n",
    "dfFinalLegoInvSetTheme.show(truncate=False)"
   ]
  },
  {
   "cell_type": "markdown",
   "id": "2070202e",
   "metadata": {},
   "source": [
    "## Final Inventory Parts DataFrame"
   ]
  },
  {
   "cell_type": "code",
   "execution_count": 20,
   "id": "8e76934f",
   "metadata": {},
   "outputs": [
    {
     "name": "stdout",
     "output_type": "stream",
     "text": [
      "+--------------------+--------------------+-----------------+-------+----------+-------+\n",
      "|           PartsName|         PartCatName|        ColorName|IsTrans|InvPartQty|IsSpare|\n",
      "+--------------------+--------------------+-----------------+-------+----------+-------+\n",
      "|Minifig Space Gun...| Minifig Accessories|       Light Gray|      f|         1|      f|\n",
      "|Plate Special 1 x...|      Plates Special| Dark Bluish Gray|      f|         6|      f|\n",
      "|Plate Special 1 x...|      Plates Special|Light Bluish Gray|      f|         2|      f|\n",
      "|Plate Special 1 x...|      Plates Special|Light Bluish Gray|      f|         6|      f|\n",
      "|Minifig Space Gun...| Minifig Accessories|              Red|      f|         2|      f|\n",
      "|Minifig Space Gun...| Minifig Accessories| Dark Bluish Gray|      f|         2|      f|\n",
      "|Bionicle Weapon T...|Bionicle, Hero Fa...|            Black|      f|         6|      f|\n",
      "|Plate Special 1 x...|      Plates Special|           Yellow|      f|         1|      f|\n",
      "|Plate Special 1 x...|      Plates Special| Dark Bluish Gray|      f|         2|      f|\n",
      "|Plate Special 1 x...|      Plates Special|            White|      f|         2|      f|\n",
      "|FOUR-SIDED SIGN W...|Flags, Signs, Pla...|            White|      f|         1|      f|\n",
      "|Body Rock Monster...|            Minifigs| Trans-Neon Green|      t|         1|      f|\n",
      "|Minifig Space Gun...| Minifig Accessories|            White|      f|         1|      f|\n",
      "|Minifig Space Gun...| Minifig Accessories|Light Bluish Gray|      f|         5|      f|\n",
      "|Plate Special 1 x...|      Plates Special|            Black|      f|         4|      f|\n",
      "|Train Wheel Small...|    Wheels and Tyres|            Black|      f|         2|      f|\n",
      "|Plate Special 1 x...|      Plates Special| Dark Bluish Gray|      f|         5|      f|\n",
      "|Plate Special 1 x...|      Plates Special|            White|      f|         8|      f|\n",
      "|Plate Special 1 x...|      Plates Special|            Black|      f|         3|      f|\n",
      "|Plate Special 1 x...|      Plates Special|      Medium Blue|      f|         4|      f|\n",
      "+--------------------+--------------------+-----------------+-------+----------+-------+\n",
      "only showing top 20 rows\n",
      "\n"
     ]
    }
   ],
   "source": [
    "dfFinalLegoInventoryParts =dfLegoInventoriesParts.join(dfLegoColor,dfLegoInventoriesParts['color_id'] == dfLegoColor['id']\n",
    "                      , 'inner') \\\n",
    "                .join(dfLegoPartsPartCategories, dfLegoInventoriesParts[\"part_num\"] == dfLegoPartsPartCategories[\"part_num\"],\n",
    "                     'inner') \\\n",
    "                .select(dfLegoPartsPartCategories[\"PartsName\"],\n",
    "                       dfLegoPartsPartCategories[\"PartCatName\"],\n",
    "                       dfLegoColor[\"name\"].alias(\"ColorName\"),\n",
    "                       dfLegoColor[\"is_trans\"].alias(\"IsTrans\"),\n",
    "                       dfLegoInventoriesParts[\"quantity\"].alias(\"InvPartQty\"),\n",
    "                       dfLegoInventoriesParts[\"is_spare\"].alias(\"IsSpare\"))\n",
    "dfFinalLegoInventoryParts.show()"
   ]
  },
  {
   "cell_type": "markdown",
   "id": "4314b520",
   "metadata": {},
   "source": [
    "## DataFrame that sets has no inventory items"
   ]
  },
  {
   "cell_type": "code",
   "execution_count": 21,
   "id": "57d140e0",
   "metadata": {},
   "outputs": [
    {
     "name": "stdout",
     "output_type": "stream",
     "text": [
      "+----------------+--------------------+----+---------+--------------------+----------+-----------+-------+----------+-------+\n",
      "|      NameThemes|            NameSets|Year|InvSetQty|           PartsName|InvPartQty|PartCatName|IsSpare|     Color|IsTrans|\n",
      "+----------------+--------------------+----+---------+--------------------+----------+-----------+-------+----------+-------+\n",
      "| Speed Champions|McLaren Mercedes ...|2015|        1|                null|      null|       null|   null|      null|   null|\n",
      "| Speed Champions|Porsche 911 GT Fi...|2015|        1|                null|      null|       null|   null|      null|   null|\n",
      "|Star Wars Rebels|         The Phantom|2014|        1|                null|      null|       null|   null|      null|   null|\n",
      "|Star Wars Rebels|           The Ghost|2014|        1|                null|      null|       null|   null|      null|   null|\n",
      "|              9V|      Straight Rails|1991|        1|                null|      null|       null|   null|      null|   null|\n",
      "|              9V|        Curved Rails|1991|        2|                null|      null|       null|   null|      null|   null|\n",
      "|              9V|       Manual Points|1991|        1|                null|      null|       null|   null|      null|   null|\n",
      "|    Mars Mission|MB-01 Eagle Comma...|2007|        1|                null|      null|       null|   null|      null|   null|\n",
      "|    Mars Mission|ETX Alien Mothers...|2007|        1|                null|      null|       null|   null|      null|   null|\n",
      "|    Mars Mission|MX-71 Recon Dropship|2007|        1|                null|      null|       null|   null|      null|   null|\n",
      "|    Mars Mission|    ETX Alien Strike|2007|        1|                null|      null|       null|   null|      null|   null|\n",
      "|    Mars Mission|         MT-31 Trike|2007|        1|                null|      null|       null|   null|      null|   null|\n",
      "|    Mars Mission| MX-11 Astro Fighter|2007|        1|                null|      null|       null|   null|      null|   null|\n",
      "|    Mars Mission|MT-51 Claw-Tank A...|2007|        1|                null|      null|       null|   null|      null|   null|\n",
      "|    Construction|              Dumper|2003|        1|                null|      null|       null|   null|      null|   null|\n",
      "|    Construction|    Front End Loader|2003|        1|                null|      null|       null|   null|      null|   null|\n",
      "|        RC Train|     Horizon Express|2013|        1|(Set) Power Funct...|         1|      Other|      f|[No Color]|      f|\n",
      "| Power Functions|Power Functions T...|2011|        1|(Set) Power Funct...|         1|      Other|      f|[No Color]|      f|\n",
      "| Power Functions|Power Functions L...|2009|        1|(Set) Power Funct...|         1|      Other|      f|[No Color]|      f|\n",
      "| Power Functions|Rechargeable Batt...|2009|        1|(Set) Power Funct...|         1|      Other|      f|[No Color]|      f|\n",
      "+----------------+--------------------+----+---------+--------------------+----------+-----------+-------+----------+-------+\n",
      "only showing top 20 rows\n",
      "\n"
     ]
    }
   ],
   "source": [
    "dfLegoInvSetsInvPartsLeft = dfLegoInventoriesSets.join(dfLegoInventories\n",
    "                                                        ,dfLegoInventoriesSets[\"inventory_id\"] == dfLegoInventories[\"id\"],\n",
    "                                                        'left') \\\n",
    "                    .join(dfLegoInventoriesParts, \n",
    "                      dfLegoInventories[\"id\"] == dfLegoInventoriesParts[\"inventory_id\"],\n",
    "                      'left').join(dfLegoSetsThemes,\n",
    "                      dfLegoInventoriesSets[\"set_num\"] == dfLegoSetsThemes[\"set_num\"],\n",
    "                       \"left\").join(dfLegoPartsPartCategories,\n",
    "                      dfLegoInventoriesParts[\"part_num\"] ==dfLegoPartsPartCategories[\"part_num\"],\n",
    "                     'left') \\\n",
    "                    .join(dfLegoColor,dfLegoInventoriesParts[\"color_id\"] ==dfLegoColor[\"id\"],\n",
    "                         \"left\") \\\n",
    "                    .select(dfLegoSetsThemes['NameThemes'],\n",
    "                            dfLegoSetsThemes['NameSets'],\n",
    "                            dfLegoSetsThemes['Year'],\n",
    "                            dfLegoInventoriesSets[\"quantity\"].alias(\"InvSetQty\"),\n",
    "                            dfLegoPartsPartCategories['PartsName'],\n",
    "                            dfLegoInventoriesParts[\"quantity\"].alias(\"InvPartQty\"),\n",
    "                            dfLegoPartsPartCategories['PartCatName'],\n",
    "                            dfLegoInventoriesParts[\"is_spare\"].alias(\"IsSpare\"),\n",
    "                            dfLegoColor[\"name\"].alias(\"Color\"),\n",
    "                            dfLegoColor[\"is_trans\"].alias(\"IsTrans\")\n",
    "                           \n",
    "                       )\n",
    "\n",
    "dfLegoInvSetsInvPartsLeft.show()\n",
    "\n"
   ]
  },
  {
   "cell_type": "code",
   "execution_count": 22,
   "id": "71869c5e",
   "metadata": {},
   "outputs": [
    {
     "name": "stdout",
     "output_type": "stream",
     "text": [
      "+---------------+--------------------+----+---------+---------+----------+-----------+-------+-----+-------+\n",
      "|     NameThemes|            NameSets|Year|InvSetQty|PartsName|InvPartQty|PartCatName|IsSpare|Color|IsTrans|\n",
      "+---------------+--------------------+----+---------+---------+----------+-----------+-------+-----+-------+\n",
      "|Speed Champions|McLaren Mercedes ...|2015|        1|     null|      null|       null|   null| null|   null|\n",
      "|Speed Champions|Porsche 911 GT Fi...|2015|        1|     null|      null|       null|   null| null|   null|\n",
      "+---------------+--------------------+----+---------+---------+----------+-----------+-------+-----+-------+\n",
      "only showing top 2 rows\n",
      "\n"
     ]
    }
   ],
   "source": [
    "dfLegoInvSetsInvPartsLeft.filter(col(\"PartsName\").isNull()).show(2)"
   ]
  },
  {
   "cell_type": "code",
   "execution_count": 23,
   "id": "fd05722d",
   "metadata": {},
   "outputs": [
    {
     "name": "stdout",
     "output_type": "stream",
     "text": [
      "+---------------+--------------------+----+---------+--------------------+----------+-----------+-------+----------+-------+\n",
      "|     NameThemes|            NameSets|Year|InvSetQty|           PartsName|InvPartQty|PartCatName|IsSpare|     Color|IsTrans|\n",
      "+---------------+--------------------+----+---------+--------------------+----------+-----------+-------+----------+-------+\n",
      "|       RC Train|     Horizon Express|2013|        1|(Set) Power Funct...|         1|      Other|      f|[No Color]|      f|\n",
      "|Power Functions|Power Functions T...|2011|        1|(Set) Power Funct...|         1|      Other|      f|[No Color]|      f|\n",
      "+---------------+--------------------+----+---------+--------------------+----------+-----------+-------+----------+-------+\n",
      "only showing top 2 rows\n",
      "\n"
     ]
    }
   ],
   "source": [
    "dfLegoInvSetsInvPartsLeft.filter(col(\"PartsName\").isNotNull()).show(2)"
   ]
  },
  {
   "cell_type": "code",
   "execution_count": null,
   "id": "cba56926",
   "metadata": {},
   "outputs": [],
   "source": []
  }
 ],
 "metadata": {
  "kernelspec": {
   "display_name": "Python 3 (ipykernel)",
   "language": "python",
   "name": "python3"
  },
  "language_info": {
   "codemirror_mode": {
    "name": "ipython",
    "version": 3
   },
   "file_extension": ".py",
   "mimetype": "text/x-python",
   "name": "python",
   "nbconvert_exporter": "python",
   "pygments_lexer": "ipython3",
   "version": "3.9.7"
  }
 },
 "nbformat": 4,
 "nbformat_minor": 5
}
